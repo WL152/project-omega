{
 "cells": [
  {
   "cell_type": "code",
   "execution_count": 1,
   "id": "558f1e2d-e528-41f3-ae29-b39e6938b42d",
   "metadata": {},
   "outputs": [
    {
     "output_type": "stream",
     "name": "stdout",
     "text": [
      "SPY abs return : 0.42700446748534004\nTSLA abs return : 2.555479260783356\n"
     ]
    }
   ],
   "source": [
    "import yfinance as yf\n",
    "import pandas as pd\n",
    "\n",
    "ticker_spy = yf.Ticker('SPY')\n",
    "#history_spy = self.History(self.Symbol(\"SPY\"), 30, Resolution.Daily)\n",
    "history_spy = ticker_spy.history(period=\"1y\", auto_adjust=True)\n",
    "history_spy = history_spy['Close'].values\n",
    "\n",
    "ticker_tsla = yf.Ticker('TSLA')\n",
    "history_tsla = ticker_tsla.history(period=\"1y\", auto_adjust=True)\n",
    "history_tsla = history_tsla['Close'].values\n",
    "\n",
    "spy_abs_return = (history_spy[-1] - history_spy[0]) / history_spy[0]\n",
    "print(f\"SPY abs return : {spy_abs_return}\")\n",
    "\n",
    "tsla_abs_return = (history_tsla[-1] - history_tsla[0]) / history_tsla[0]\n",
    "print(f\"TSLA abs return : {tsla_abs_return}\")"
   ]
  },
  {
   "cell_type": "code",
   "execution_count": 2,
   "id": "e99dc40a-9800-4e12-9442-9d0195b89fed",
   "metadata": {},
   "outputs": [
    {
     "output_type": "stream",
     "name": "stdout",
     "text": [
      "Std Dev of SPY : 0.010749699380151854\nStd Dev of TSLA : 0.04623214782883646\nCorrelation : 0.46914555473443187\nTSLA beta : 2.0176942510384275\nTSLA alpha : 1.6939148015704601\nTSLA Sharpe Ratio : 2.1025401179394705\n"
     ]
    }
   ],
   "source": [
    "\n",
    "df = pd.DataFrame()\n",
    "df[\"SPY_Price\"] = history_spy\n",
    "df[\"TSLA_Price\"] = history_tsla\n",
    "\n",
    "df[\"SPY_returns\"] = df[\"SPY_Price\"].pct_change()\n",
    "df[\"TSLA_returns\"] = df[\"TSLA_Price\"].pct_change()\n",
    "\n",
    "#print(df)\n",
    "\n",
    "spy_daily_ret = df[\"SPY_returns\"].mean()\n",
    "tsla_daily_ret = df[\"TSLA_returns\"].mean()\n",
    "\n",
    "spy_std = df[\"SPY_returns\"].std()\n",
    "print(f\"Std Dev of SPY : {spy_std}\")\n",
    "tsla_std = df[\"TSLA_returns\"].std()\n",
    "print(f\"Std Dev of TSLA : {tsla_std}\")\n",
    "\n",
    "spy_var = spy_std * spy_std\n",
    "tsla_var = tsla_std * tsla_std\n",
    "\n",
    "covariance = df[\"SPY_returns\"].cov(df[\"TSLA_returns\"])\n",
    "correlation = covariance / (spy_std * tsla_std)\n",
    "print(f\"Correlation : {correlation}\")\n",
    "\n",
    "TSLA_beta = covariance / spy_var\n",
    "print(f\"TSLA beta : {TSLA_beta}\")\n",
    "\n",
    "TSLA_alpha = tsla_abs_return - TSLA_beta * spy_abs_return\n",
    "print(f\"TSLA alpha : {TSLA_alpha}\")\n",
    "\n",
    "#tsla_30_day_std = tsla_std * (len(history_tsla) ** 0.5)\n",
    "# TSLA_SR = tsla_abs_return / tsla_30_day_std # Sharpe ratio for 30 days period\n",
    "TSLA_SR = tsla_daily_ret/ tsla_std * (252**0.5) # this is annualied Sharpe ratio\n",
    "print(f\"TSLA Sharpe Ratio : {TSLA_SR}\")"
   ]
  }
 ],
 "metadata": {
  "kernelspec": {
   "name": "python394jvsc74a57bd0fdbafed433bad546f9c4036d3f0beb14901a1516bb277b7e284dedd556c7676b",
   "display_name": "Python 3.9.4 64-bit"
  },
  "language_info": {
   "codemirror_mode": {
    "name": "ipython",
    "version": 3
   },
   "file_extension": ".py",
   "mimetype": "text/x-python",
   "name": "python",
   "nbconvert_exporter": "python",
   "pygments_lexer": "ipython3",
   "version": "3.9.4"
  }
 },
 "nbformat": 4,
 "nbformat_minor": 5
}