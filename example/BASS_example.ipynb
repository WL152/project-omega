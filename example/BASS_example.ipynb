{
 "cells": [
  {
   "cell_type": "code",
   "execution_count": 1,
   "id": "558f1e2d-e528-41f3-ae29-b39e6938b42d",
   "metadata": {},
   "outputs": [
    {
     "output_type": "stream",
     "name": "stdout",
     "text": [
      "Requirement already satisfied: yfinance in c:\\users\\alexey\\anaconda3\\envs\\py3\\lib\\site-packages (0.1.59)\nRequirement already satisfied: requests>=2.20 in c:\\users\\alexey\\anaconda3\\envs\\py3\\lib\\site-packages (from yfinance) (2.25.1)\nRequirement already satisfied: lxml>=4.5.1 in c:\\users\\alexey\\anaconda3\\envs\\py3\\lib\\site-packages (from yfinance) (4.6.3)\nRequirement already satisfied: pandas>=0.24 in c:\\users\\alexey\\anaconda3\\envs\\py3\\lib\\site-packages (from yfinance) (1.2.4)\nRequirement already satisfied: multitasking>=0.0.7 in c:\\users\\alexey\\anaconda3\\envs\\py3\\lib\\site-packages (from yfinance) (0.0.9)\nRequirement already satisfied: numpy>=1.15 in c:\\users\\alexey\\anaconda3\\envs\\py3\\lib\\site-packages (from yfinance) (1.20.1)\nRequirement already satisfied: pytz>=2017.3 in c:\\users\\alexey\\anaconda3\\envs\\py3\\lib\\site-packages (from pandas>=0.24->yfinance) (2021.1)\nRequirement already satisfied: python-dateutil>=2.7.3 in c:\\users\\alexey\\anaconda3\\envs\\py3\\lib\\site-packages (from pandas>=0.24->yfinance) (2.8.1)\nRequirement already satisfied: six>=1.5 in c:\\users\\alexey\\appdata\\roaming\\python\\python39\\site-packages (from python-dateutil>=2.7.3->pandas>=0.24->yfinance) (1.15.0)\nRequirement already satisfied: chardet<5,>=3.0.2 in c:\\users\\alexey\\anaconda3\\envs\\py3\\lib\\site-packages (from requests>=2.20->yfinance) (4.0.0)\nRequirement already satisfied: idna<3,>=2.5 in c:\\users\\alexey\\anaconda3\\envs\\py3\\lib\\site-packages (from requests>=2.20->yfinance) (2.10)\nRequirement already satisfied: urllib3<1.27,>=1.21.1 in c:\\users\\alexey\\anaconda3\\envs\\py3\\lib\\site-packages (from requests>=2.20->yfinance) (1.26.4)\nRequirement already satisfied: certifi>=2017.4.17 in c:\\users\\alexey\\anaconda3\\envs\\py3\\lib\\site-packages (from requests>=2.20->yfinance) (2020.12.5)\nNote: you may need to restart the kernel to use updated packages.\n"
     ]
    }
   ],
   "source": [
    "%pip install yfinance"
   ]
  },
  {
   "cell_type": "code",
   "execution_count": 2,
   "metadata": {},
   "outputs": [
    {
     "output_type": "stream",
     "name": "stdout",
     "text": [
      "SPY abs return : 0.42400739406795035\nTSLA abs return : 2.7029076334286866\n"
     ]
    }
   ],
   "source": [
    "import yfinance as yf\n",
    "import pandas as pd\n",
    "\n",
    "ticker_spy = yf.Ticker('SPY')\n",
    "#history_spy = self.History(self.Symbol(\"SPY\"), 30, Resolution.Daily)\n",
    "history_spy = ticker_spy.history(period=\"1y\", auto_adjust=True)\n",
    "history_spy = history_spy['Close'].values\n",
    "\n",
    "ticker_tsla = yf.Ticker('TSLA')\n",
    "history_tsla = ticker_tsla.history(period=\"1y\", auto_adjust=True)\n",
    "history_tsla = history_tsla['Close'].values\n",
    "\n",
    "spy_abs_return = (history_spy[-1] - history_spy[0]) / history_spy[0]\n",
    "print(f\"SPY abs return : {spy_abs_return}\")\n",
    "\n",
    "tsla_abs_return = (history_tsla[-1] - history_tsla[0]) / history_tsla[0]\n",
    "print(f\"TSLA abs return : {tsla_abs_return}\")"
   ]
  },
  {
   "cell_type": "code",
   "execution_count": 3,
   "id": "e99dc40a-9800-4e12-9442-9d0195b89fed",
   "metadata": {},
   "outputs": [
    {
     "output_type": "stream",
     "name": "stdout",
     "text": [
      "Std Dev of SPY : 0.010741954506198952\nStd Dev of TSLA : 0.046293291180885585\nCorrelation : 0.47184468002423685\nTSLA beta : 2.0334514684370073\nTSLA alpha : 1.840709175333064\nTSLA Sharpe Ratio : 2.156550012167246\n"
     ]
    }
   ],
   "source": [
    "\n",
    "df = pd.DataFrame()\n",
    "df[\"SPY_Price\"] = history_spy\n",
    "df[\"TSLA_Price\"] = history_tsla\n",
    "\n",
    "df[\"SPY_returns\"] = df[\"SPY_Price\"].pct_change()\n",
    "df[\"TSLA_returns\"] = df[\"TSLA_Price\"].pct_change()\n",
    "\n",
    "#print(df)\n",
    "\n",
    "spy_daily_ret = df[\"SPY_returns\"].mean()\n",
    "tsla_daily_ret = df[\"TSLA_returns\"].mean()\n",
    "\n",
    "spy_std = df[\"SPY_returns\"].std()\n",
    "print(f\"Std Dev of SPY : {spy_std}\")\n",
    "tsla_std = df[\"TSLA_returns\"].std()\n",
    "print(f\"Std Dev of TSLA : {tsla_std}\")\n",
    "\n",
    "spy_var = spy_std * spy_std\n",
    "tsla_var = tsla_std * tsla_std\n",
    "\n",
    "covariance = df[\"SPY_returns\"].cov(df[\"TSLA_returns\"])\n",
    "correlation = covariance / (spy_std * tsla_std)\n",
    "print(f\"Correlation : {correlation}\")\n",
    "\n",
    "TSLA_beta = covariance / spy_var\n",
    "print(f\"TSLA beta : {TSLA_beta}\")\n",
    "\n",
    "TSLA_alpha = tsla_abs_return - TSLA_beta * spy_abs_return\n",
    "print(f\"TSLA alpha : {TSLA_alpha}\")\n",
    "\n",
    "#tsla_30_day_std = tsla_std * (len(history_tsla) ** 0.5)\n",
    "# TSLA_SR = tsla_abs_return / tsla_30_day_std # Sharpe ratio for 30 days period\n",
    "TSLA_SR = tsla_daily_ret/ tsla_std * (252**0.5) # this is annualied Sharpe ratio\n",
    "print(f\"TSLA Sharpe Ratio : {TSLA_SR}\")"
   ]
  }
 ],
 "metadata": {
  "kernelspec": {
   "name": "python394jvsc74a57bd0fdbafed433bad546f9c4036d3f0beb14901a1516bb277b7e284dedd556c7676b",
   "display_name": "Python 3.9.4 64-bit ('py3': conda)"
  },
  "language_info": {
   "codemirror_mode": {
    "name": "ipython",
    "version": 3
   },
   "file_extension": ".py",
   "mimetype": "text/x-python",
   "name": "python",
   "nbconvert_exporter": "python",
   "pygments_lexer": "ipython3",
   "version": "3.9.4"
  }
 },
 "nbformat": 4,
 "nbformat_minor": 5
}