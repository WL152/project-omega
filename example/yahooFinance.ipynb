{
 "cells": [
  {
   "cell_type": "code",
   "execution_count": 1,
   "id": "5b7d51aa-d69a-4501-b844-dc4f81239305",
   "metadata": {},
   "outputs": [],
   "source": [
    "import yfinance as yf\n",
    "import pandas as pd\n",
    "\n",
    "ticker = yf.Ticker('AAPL')\n",
    "hist = ticker.history(period=\"1y\", auto_adjust=True)"
   ]
  },
  {
   "cell_type": "code",
   "execution_count": 2,
   "id": "f74e62f4-9fde-4caf-b2b6-0f53af89e6fb",
   "metadata": {},
   "outputs": [
    {
     "output_type": "execute_result",
     "data": {
      "text/plain": [
       "            ds           y\n",
       "247 2021-05-17  126.269997\n",
       "248 2021-05-18  124.849998\n",
       "249 2021-05-19  124.690002\n",
       "250 2021-05-20  127.309998\n",
       "251 2021-05-21  125.430000"
      ],
      "text/html": "<div>\n<style scoped>\n    .dataframe tbody tr th:only-of-type {\n        vertical-align: middle;\n    }\n\n    .dataframe tbody tr th {\n        vertical-align: top;\n    }\n\n    .dataframe thead th {\n        text-align: right;\n    }\n</style>\n<table border=\"1\" class=\"dataframe\">\n  <thead>\n    <tr style=\"text-align: right;\">\n      <th></th>\n      <th>ds</th>\n      <th>y</th>\n    </tr>\n  </thead>\n  <tbody>\n    <tr>\n      <th>247</th>\n      <td>2021-05-17</td>\n      <td>126.269997</td>\n    </tr>\n    <tr>\n      <th>248</th>\n      <td>2021-05-18</td>\n      <td>124.849998</td>\n    </tr>\n    <tr>\n      <th>249</th>\n      <td>2021-05-19</td>\n      <td>124.690002</td>\n    </tr>\n    <tr>\n      <th>250</th>\n      <td>2021-05-20</td>\n      <td>127.309998</td>\n    </tr>\n    <tr>\n      <th>251</th>\n      <td>2021-05-21</td>\n      <td>125.430000</td>\n    </tr>\n  </tbody>\n</table>\n</div>"
     },
     "metadata": {},
     "execution_count": 2
    }
   ],
   "source": [
    "\n",
    "df = pd.DataFrame()\n",
    "\n",
    "df['ds'] = hist.index\n",
    "df['y'] = hist['Close'].values\n",
    "\n",
    "df.tail()"
   ]
  },
  {
   "cell_type": "code",
   "execution_count": 3,
   "id": "95888d3d-f08b-4b4e-b728-a2b499d55e4e",
   "metadata": {},
   "outputs": [
    {
     "output_type": "execute_result",
     "data": {
      "text/plain": [
       "                y\n",
       "count  252.000000\n",
       "mean   116.572826\n",
       "std     15.613719\n",
       "min     78.652542\n",
       "25%    111.110144\n",
       "50%    120.306526\n",
       "75%    127.717728\n",
       "max    142.704010"
      ],
      "text/html": "<div>\n<style scoped>\n    .dataframe tbody tr th:only-of-type {\n        vertical-align: middle;\n    }\n\n    .dataframe tbody tr th {\n        vertical-align: top;\n    }\n\n    .dataframe thead th {\n        text-align: right;\n    }\n</style>\n<table border=\"1\" class=\"dataframe\">\n  <thead>\n    <tr style=\"text-align: right;\">\n      <th></th>\n      <th>y</th>\n    </tr>\n  </thead>\n  <tbody>\n    <tr>\n      <th>count</th>\n      <td>252.000000</td>\n    </tr>\n    <tr>\n      <th>mean</th>\n      <td>116.572826</td>\n    </tr>\n    <tr>\n      <th>std</th>\n      <td>15.613719</td>\n    </tr>\n    <tr>\n      <th>min</th>\n      <td>78.652542</td>\n    </tr>\n    <tr>\n      <th>25%</th>\n      <td>111.110144</td>\n    </tr>\n    <tr>\n      <th>50%</th>\n      <td>120.306526</td>\n    </tr>\n    <tr>\n      <th>75%</th>\n      <td>127.717728</td>\n    </tr>\n    <tr>\n      <th>max</th>\n      <td>142.704010</td>\n    </tr>\n  </tbody>\n</table>\n</div>"
     },
     "metadata": {},
     "execution_count": 3
    }
   ],
   "source": [
    "df.describe()"
   ]
  },
  {
   "cell_type": "code",
   "execution_count": 4,
   "id": "46da7b81-effe-4dc7-91e4-8d80d66be2ba",
   "metadata": {},
   "outputs": [
    {
     "output_type": "execute_result",
     "data": {
      "text/plain": [
       "                             2020-09-26    2019-09-28    2018-09-29  \\\n",
       "Total Liab                 2.585490e+11  2.480280e+11  2.585780e+11   \n",
       "Total Stockholder Equity   6.533900e+10  9.048800e+10  1.071470e+11   \n",
       "Other Current Liab         4.786700e+10  4.324200e+10  3.929300e+10   \n",
       "Total Assets               3.238880e+11  3.385160e+11  3.657250e+11   \n",
       "Common Stock               5.077900e+10  4.517400e+10  4.020100e+10   \n",
       "Other Current Assets       1.126400e+10  1.235200e+10  1.208700e+10   \n",
       "Retained Earnings          1.496600e+10  4.589800e+10  7.040000e+10   \n",
       "Other Liab                 4.610800e+10  5.050300e+10  4.891400e+10   \n",
       "Treasury Stock            -4.060000e+08 -5.840000e+08 -3.454000e+09   \n",
       "Other Assets               3.395200e+10  3.297800e+10  2.228300e+10   \n",
       "Cash                       3.801600e+10  4.884400e+10  2.591300e+10   \n",
       "Total Current Liabilities  1.053920e+11  1.057180e+11  1.159290e+11   \n",
       "Short Long Term Debt       8.773000e+09  1.026000e+10  8.784000e+09   \n",
       "Other Stockholder Equity  -4.060000e+08 -5.840000e+08 -3.454000e+09   \n",
       "Property Plant Equipment   4.533600e+10  3.737800e+10  4.130400e+10   \n",
       "Total Current Assets       1.437130e+11  1.628190e+11  1.313390e+11   \n",
       "Long Term Investments      1.008870e+11  1.053410e+11  1.707990e+11   \n",
       "Net Tangible Assets        6.533900e+10  9.048800e+10  1.071470e+11   \n",
       "Short Term Investments     5.292700e+10  5.171300e+10  4.038800e+10   \n",
       "Net Receivables            3.744500e+10  4.580400e+10  4.899500e+10   \n",
       "Long Term Debt             9.866700e+10  9.180700e+10  9.373500e+10   \n",
       "Inventory                  4.061000e+09  4.106000e+09  3.956000e+09   \n",
       "Accounts Payable           4.229600e+10  4.623600e+10  5.588800e+10   \n",
       "\n",
       "                             2017-09-30  \n",
       "Total Liab                 2.412720e+11  \n",
       "Total Stockholder Equity   1.340470e+11  \n",
       "Other Current Liab         3.809900e+10  \n",
       "Total Assets               3.753190e+11  \n",
       "Common Stock               3.586700e+10  \n",
       "Other Current Assets       1.393600e+10  \n",
       "Retained Earnings          9.833000e+10  \n",
       "Other Liab                 4.325100e+10  \n",
       "Treasury Stock            -1.500000e+08  \n",
       "Other Assets               1.817700e+10  \n",
       "Cash                       2.028900e+10  \n",
       "Total Current Liabilities  1.008140e+11  \n",
       "Short Long Term Debt       6.496000e+09  \n",
       "Other Stockholder Equity  -1.500000e+08  \n",
       "Property Plant Equipment   3.378300e+10  \n",
       "Total Current Assets       1.286450e+11  \n",
       "Long Term Investments      1.947140e+11  \n",
       "Net Tangible Assets        1.340470e+11  \n",
       "Short Term Investments     5.389200e+10  \n",
       "Net Receivables            3.567300e+10  \n",
       "Long Term Debt             9.720700e+10  \n",
       "Inventory                  4.855000e+09  \n",
       "Accounts Payable           4.424200e+10  "
      ],
      "text/html": "<div>\n<style scoped>\n    .dataframe tbody tr th:only-of-type {\n        vertical-align: middle;\n    }\n\n    .dataframe tbody tr th {\n        vertical-align: top;\n    }\n\n    .dataframe thead th {\n        text-align: right;\n    }\n</style>\n<table border=\"1\" class=\"dataframe\">\n  <thead>\n    <tr style=\"text-align: right;\">\n      <th></th>\n      <th>2020-09-26</th>\n      <th>2019-09-28</th>\n      <th>2018-09-29</th>\n      <th>2017-09-30</th>\n    </tr>\n  </thead>\n  <tbody>\n    <tr>\n      <th>Total Liab</th>\n      <td>2.585490e+11</td>\n      <td>2.480280e+11</td>\n      <td>2.585780e+11</td>\n      <td>2.412720e+11</td>\n    </tr>\n    <tr>\n      <th>Total Stockholder Equity</th>\n      <td>6.533900e+10</td>\n      <td>9.048800e+10</td>\n      <td>1.071470e+11</td>\n      <td>1.340470e+11</td>\n    </tr>\n    <tr>\n      <th>Other Current Liab</th>\n      <td>4.786700e+10</td>\n      <td>4.324200e+10</td>\n      <td>3.929300e+10</td>\n      <td>3.809900e+10</td>\n    </tr>\n    <tr>\n      <th>Total Assets</th>\n      <td>3.238880e+11</td>\n      <td>3.385160e+11</td>\n      <td>3.657250e+11</td>\n      <td>3.753190e+11</td>\n    </tr>\n    <tr>\n      <th>Common Stock</th>\n      <td>5.077900e+10</td>\n      <td>4.517400e+10</td>\n      <td>4.020100e+10</td>\n      <td>3.586700e+10</td>\n    </tr>\n    <tr>\n      <th>Other Current Assets</th>\n      <td>1.126400e+10</td>\n      <td>1.235200e+10</td>\n      <td>1.208700e+10</td>\n      <td>1.393600e+10</td>\n    </tr>\n    <tr>\n      <th>Retained Earnings</th>\n      <td>1.496600e+10</td>\n      <td>4.589800e+10</td>\n      <td>7.040000e+10</td>\n      <td>9.833000e+10</td>\n    </tr>\n    <tr>\n      <th>Other Liab</th>\n      <td>4.610800e+10</td>\n      <td>5.050300e+10</td>\n      <td>4.891400e+10</td>\n      <td>4.325100e+10</td>\n    </tr>\n    <tr>\n      <th>Treasury Stock</th>\n      <td>-4.060000e+08</td>\n      <td>-5.840000e+08</td>\n      <td>-3.454000e+09</td>\n      <td>-1.500000e+08</td>\n    </tr>\n    <tr>\n      <th>Other Assets</th>\n      <td>3.395200e+10</td>\n      <td>3.297800e+10</td>\n      <td>2.228300e+10</td>\n      <td>1.817700e+10</td>\n    </tr>\n    <tr>\n      <th>Cash</th>\n      <td>3.801600e+10</td>\n      <td>4.884400e+10</td>\n      <td>2.591300e+10</td>\n      <td>2.028900e+10</td>\n    </tr>\n    <tr>\n      <th>Total Current Liabilities</th>\n      <td>1.053920e+11</td>\n      <td>1.057180e+11</td>\n      <td>1.159290e+11</td>\n      <td>1.008140e+11</td>\n    </tr>\n    <tr>\n      <th>Short Long Term Debt</th>\n      <td>8.773000e+09</td>\n      <td>1.026000e+10</td>\n      <td>8.784000e+09</td>\n      <td>6.496000e+09</td>\n    </tr>\n    <tr>\n      <th>Other Stockholder Equity</th>\n      <td>-4.060000e+08</td>\n      <td>-5.840000e+08</td>\n      <td>-3.454000e+09</td>\n      <td>-1.500000e+08</td>\n    </tr>\n    <tr>\n      <th>Property Plant Equipment</th>\n      <td>4.533600e+10</td>\n      <td>3.737800e+10</td>\n      <td>4.130400e+10</td>\n      <td>3.378300e+10</td>\n    </tr>\n    <tr>\n      <th>Total Current Assets</th>\n      <td>1.437130e+11</td>\n      <td>1.628190e+11</td>\n      <td>1.313390e+11</td>\n      <td>1.286450e+11</td>\n    </tr>\n    <tr>\n      <th>Long Term Investments</th>\n      <td>1.008870e+11</td>\n      <td>1.053410e+11</td>\n      <td>1.707990e+11</td>\n      <td>1.947140e+11</td>\n    </tr>\n    <tr>\n      <th>Net Tangible Assets</th>\n      <td>6.533900e+10</td>\n      <td>9.048800e+10</td>\n      <td>1.071470e+11</td>\n      <td>1.340470e+11</td>\n    </tr>\n    <tr>\n      <th>Short Term Investments</th>\n      <td>5.292700e+10</td>\n      <td>5.171300e+10</td>\n      <td>4.038800e+10</td>\n      <td>5.389200e+10</td>\n    </tr>\n    <tr>\n      <th>Net Receivables</th>\n      <td>3.744500e+10</td>\n      <td>4.580400e+10</td>\n      <td>4.899500e+10</td>\n      <td>3.567300e+10</td>\n    </tr>\n    <tr>\n      <th>Long Term Debt</th>\n      <td>9.866700e+10</td>\n      <td>9.180700e+10</td>\n      <td>9.373500e+10</td>\n      <td>9.720700e+10</td>\n    </tr>\n    <tr>\n      <th>Inventory</th>\n      <td>4.061000e+09</td>\n      <td>4.106000e+09</td>\n      <td>3.956000e+09</td>\n      <td>4.855000e+09</td>\n    </tr>\n    <tr>\n      <th>Accounts Payable</th>\n      <td>4.229600e+10</td>\n      <td>4.623600e+10</td>\n      <td>5.588800e+10</td>\n      <td>4.424200e+10</td>\n    </tr>\n  </tbody>\n</table>\n</div>"
     },
     "metadata": {},
     "execution_count": 4
    }
   ],
   "source": [
    "ticker.balance_sheet"
   ]
  },
  {
   "cell_type": "code",
   "execution_count": 5,
   "id": "b4afff82-0048-44a6-bcd8-3e73efbc151d",
   "metadata": {},
   "outputs": [
    {
     "output_type": "execute_result",
     "data": {
      "text/plain": [
       "'US0378331005'"
      ]
     },
     "metadata": {},
     "execution_count": 5
    }
   ],
   "source": [
    "ticker.isin"
   ]
  },
  {
   "cell_type": "code",
   "execution_count": 6,
   "metadata": {},
   "outputs": [
    {
     "output_type": "stream",
     "name": "stdout",
     "text": [
      "[*********************100%***********************]  1 of 1 completed\n",
      "[*********************100%***********************]  1 of 1 completed\n"
     ]
    },
    {
     "output_type": "execute_result",
     "data": {
      "text/plain": [
       "                  Open        High         Low       Close   Adj Close  \\\n",
       "Date                                                                     \n",
       "2021-05-20  125.230003  127.720001  125.099998  127.309998  127.309998   \n",
       "2021-05-21  127.820000  128.000000  125.209999  125.430000  125.430000   \n",
       "2021-05-20  243.960007  247.949997  243.860001  246.479996  246.479996   \n",
       "2021-05-21  247.570007  248.330002  244.740005  245.169998  245.169998   \n",
       "\n",
       "              Volume ticker  \n",
       "Date                         \n",
       "2021-05-20  76857100   AAPL  \n",
       "2021-05-21  79209300   AAPL  \n",
       "2021-05-20  21800700   MSFT  \n",
       "2021-05-21  21855500   MSFT  "
      ],
      "text/html": "<div>\n<style scoped>\n    .dataframe tbody tr th:only-of-type {\n        vertical-align: middle;\n    }\n\n    .dataframe tbody tr th {\n        vertical-align: top;\n    }\n\n    .dataframe thead th {\n        text-align: right;\n    }\n</style>\n<table border=\"1\" class=\"dataframe\">\n  <thead>\n    <tr style=\"text-align: right;\">\n      <th></th>\n      <th>Open</th>\n      <th>High</th>\n      <th>Low</th>\n      <th>Close</th>\n      <th>Adj Close</th>\n      <th>Volume</th>\n      <th>ticker</th>\n    </tr>\n    <tr>\n      <th>Date</th>\n      <th></th>\n      <th></th>\n      <th></th>\n      <th></th>\n      <th></th>\n      <th></th>\n      <th></th>\n    </tr>\n  </thead>\n  <tbody>\n    <tr>\n      <th>2021-05-20</th>\n      <td>125.230003</td>\n      <td>127.720001</td>\n      <td>125.099998</td>\n      <td>127.309998</td>\n      <td>127.309998</td>\n      <td>76857100</td>\n      <td>AAPL</td>\n    </tr>\n    <tr>\n      <th>2021-05-21</th>\n      <td>127.820000</td>\n      <td>128.000000</td>\n      <td>125.209999</td>\n      <td>125.430000</td>\n      <td>125.430000</td>\n      <td>79209300</td>\n      <td>AAPL</td>\n    </tr>\n    <tr>\n      <th>2021-05-20</th>\n      <td>243.960007</td>\n      <td>247.949997</td>\n      <td>243.860001</td>\n      <td>246.479996</td>\n      <td>246.479996</td>\n      <td>21800700</td>\n      <td>MSFT</td>\n    </tr>\n    <tr>\n      <th>2021-05-21</th>\n      <td>247.570007</td>\n      <td>248.330002</td>\n      <td>244.740005</td>\n      <td>245.169998</td>\n      <td>245.169998</td>\n      <td>21855500</td>\n      <td>MSFT</td>\n    </tr>\n  </tbody>\n</table>\n</div>"
     },
     "metadata": {},
     "execution_count": 6
    }
   ],
   "source": [
    "tickerStrings = ['AAPL', 'MSFT']\n",
    "df_list = list()\n",
    "for ticker in tickerStrings:\n",
    "    data = yf.download(ticker, group_by=\"Ticker\", period='2d')\n",
    "    data['ticker'] = ticker  # add this column becasue the dataframe doesn't contain a column with the ticker\n",
    "    df_list.append(data)\n",
    "\n",
    "# combine all dataframes into a single dataframe\n",
    "df = pd.concat(df_list)\n",
    "\n",
    "# save to csv\n",
    "# df.to_csv('ticker.csv')\n",
    "\n",
    "df"
   ]
  }
 ],
 "metadata": {
  "kernelspec": {
   "name": "python394jvsc74a57bd0fdbafed433bad546f9c4036d3f0beb14901a1516bb277b7e284dedd556c7676b",
   "display_name": "Python 3.9.4 64-bit"
  },
  "language_info": {
   "codemirror_mode": {
    "name": "ipython",
    "version": 3
   },
   "file_extension": ".py",
   "mimetype": "text/x-python",
   "name": "python",
   "nbconvert_exporter": "python",
   "pygments_lexer": "ipython3",
   "version": "3.9.4"
  }
 },
 "nbformat": 4,
 "nbformat_minor": 5
}