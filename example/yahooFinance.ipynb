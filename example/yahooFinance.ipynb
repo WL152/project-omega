{
 "cells": [
  {
   "cell_type": "code",
   "execution_count": 1,
   "id": "5b7d51aa-d69a-4501-b844-dc4f81239305",
   "metadata": {},
   "outputs": [
    {
     "output_type": "stream",
     "name": "stdout",
     "text": [
      "Requirement already satisfied: yfinance in c:\\users\\alexey\\anaconda3\\envs\\py3\\lib\\site-packages (0.1.59)\nRequirement already satisfied: lxml>=4.5.1 in c:\\users\\alexey\\anaconda3\\envs\\py3\\lib\\site-packages (from yfinance) (4.6.3)\nRequirement already satisfied: pandas>=0.24 in c:\\users\\alexey\\anaconda3\\envs\\py3\\lib\\site-packages (from yfinance) (1.2.4)\nRequirement already satisfied: requests>=2.20 in c:\\users\\alexey\\anaconda3\\envs\\py3\\lib\\site-packages (from yfinance) (2.25.1)\nRequirement already satisfied: numpy>=1.15 in c:\\users\\alexey\\anaconda3\\envs\\py3\\lib\\site-packages (from yfinance) (1.20.1)\nRequirement already satisfied: multitasking>=0.0.7 in c:\\users\\alexey\\anaconda3\\envs\\py3\\lib\\site-packages (from yfinance) (0.0.9)\nRequirement already satisfied: python-dateutil>=2.7.3 in c:\\users\\alexey\\anaconda3\\envs\\py3\\lib\\site-packages (from pandas>=0.24->yfinance) (2.8.1)\nRequirement already satisfied: pytz>=2017.3 in c:\\users\\alexey\\anaconda3\\envs\\py3\\lib\\site-packages (from pandas>=0.24->yfinance) (2021.1)\nRequirement already satisfied: six>=1.5 in c:\\users\\alexey\\appdata\\roaming\\python\\python39\\site-packages (from python-dateutil>=2.7.3->pandas>=0.24->yfinance) (1.15.0)\nRequirement already satisfied: urllib3<1.27,>=1.21.1 in c:\\users\\alexey\\anaconda3\\envs\\py3\\lib\\site-packages (from requests>=2.20->yfinance) (1.26.4)\nRequirement already satisfied: chardet<5,>=3.0.2 in c:\\users\\alexey\\anaconda3\\envs\\py3\\lib\\site-packages (from requests>=2.20->yfinance) (4.0.0)\nRequirement already satisfied: idna<3,>=2.5 in c:\\users\\alexey\\anaconda3\\envs\\py3\\lib\\site-packages (from requests>=2.20->yfinance) (2.10)\nRequirement already satisfied: certifi>=2017.4.17 in c:\\users\\alexey\\anaconda3\\envs\\py3\\lib\\site-packages (from requests>=2.20->yfinance) (2020.12.5)\nNote: you may need to restart the kernel to use updated packages.\n"
     ]
    }
   ],
   "source": [
    "%pip install yfinance"
   ]
  },
  {
   "cell_type": "code",
   "execution_count": 2,
   "metadata": {},
   "outputs": [],
   "source": [
    "import yfinance as yf\n",
    "import pandas as pd\n",
    "\n",
    "ticker = yf.Ticker('AAPL')\n",
    "hist = ticker.history(period=\"1y\", auto_adjust=True)"
   ]
  },
  {
   "cell_type": "code",
   "execution_count": 3,
   "id": "f74e62f4-9fde-4caf-b2b6-0f53af89e6fb",
   "metadata": {},
   "outputs": [
    {
     "output_type": "execute_result",
     "data": {
      "text/plain": [
       "            ds           y\n",
       "247 2021-05-18  124.849998\n",
       "248 2021-05-19  124.690002\n",
       "249 2021-05-20  127.309998\n",
       "250 2021-05-21  125.430000\n",
       "251 2021-05-24  127.099998"
      ],
      "text/html": "<div>\n<style scoped>\n    .dataframe tbody tr th:only-of-type {\n        vertical-align: middle;\n    }\n\n    .dataframe tbody tr th {\n        vertical-align: top;\n    }\n\n    .dataframe thead th {\n        text-align: right;\n    }\n</style>\n<table border=\"1\" class=\"dataframe\">\n  <thead>\n    <tr style=\"text-align: right;\">\n      <th></th>\n      <th>ds</th>\n      <th>y</th>\n    </tr>\n  </thead>\n  <tbody>\n    <tr>\n      <th>247</th>\n      <td>2021-05-18</td>\n      <td>124.849998</td>\n    </tr>\n    <tr>\n      <th>248</th>\n      <td>2021-05-19</td>\n      <td>124.690002</td>\n    </tr>\n    <tr>\n      <th>249</th>\n      <td>2021-05-20</td>\n      <td>127.309998</td>\n    </tr>\n    <tr>\n      <th>250</th>\n      <td>2021-05-21</td>\n      <td>125.430000</td>\n    </tr>\n    <tr>\n      <th>251</th>\n      <td>2021-05-24</td>\n      <td>127.099998</td>\n    </tr>\n  </tbody>\n</table>\n</div>"
     },
     "metadata": {},
     "execution_count": 3
    }
   ],
   "source": [
    "\n",
    "df = pd.DataFrame()\n",
    "\n",
    "df['ds'] = hist.index\n",
    "df['y'] = hist['Close'].values\n",
    "\n",
    "df.tail()"
   ]
  },
  {
   "cell_type": "code",
   "execution_count": 4,
   "id": "95888d3d-f08b-4b4e-b728-a2b499d55e4e",
   "metadata": {},
   "outputs": [
    {
     "output_type": "execute_result",
     "data": {
      "text/plain": [
       "                y\n",
       "count  252.000000\n",
       "mean   116.762949\n",
       "std     15.447507\n",
       "min     78.652542\n",
       "25%    111.403704\n",
       "50%    120.346333\n",
       "75%    127.717728\n",
       "max    142.704010"
      ],
      "text/html": "<div>\n<style scoped>\n    .dataframe tbody tr th:only-of-type {\n        vertical-align: middle;\n    }\n\n    .dataframe tbody tr th {\n        vertical-align: top;\n    }\n\n    .dataframe thead th {\n        text-align: right;\n    }\n</style>\n<table border=\"1\" class=\"dataframe\">\n  <thead>\n    <tr style=\"text-align: right;\">\n      <th></th>\n      <th>y</th>\n    </tr>\n  </thead>\n  <tbody>\n    <tr>\n      <th>count</th>\n      <td>252.000000</td>\n    </tr>\n    <tr>\n      <th>mean</th>\n      <td>116.762949</td>\n    </tr>\n    <tr>\n      <th>std</th>\n      <td>15.447507</td>\n    </tr>\n    <tr>\n      <th>min</th>\n      <td>78.652542</td>\n    </tr>\n    <tr>\n      <th>25%</th>\n      <td>111.403704</td>\n    </tr>\n    <tr>\n      <th>50%</th>\n      <td>120.346333</td>\n    </tr>\n    <tr>\n      <th>75%</th>\n      <td>127.717728</td>\n    </tr>\n    <tr>\n      <th>max</th>\n      <td>142.704010</td>\n    </tr>\n  </tbody>\n</table>\n</div>"
     },
     "metadata": {},
     "execution_count": 4
    }
   ],
   "source": [
    "df.describe()"
   ]
  },
  {
   "cell_type": "code",
   "execution_count": 5,
   "id": "46da7b81-effe-4dc7-91e4-8d80d66be2ba",
   "metadata": {},
   "outputs": [
    {
     "output_type": "execute_result",
     "data": {
      "text/plain": [
       "                             2020-09-26    2019-09-28    2018-09-29  \\\n",
       "Total Liab                 2.585490e+11  2.480280e+11  2.585780e+11   \n",
       "Total Stockholder Equity   6.533900e+10  9.048800e+10  1.071470e+11   \n",
       "Other Current Liab         4.786700e+10  4.324200e+10  3.929300e+10   \n",
       "Total Assets               3.238880e+11  3.385160e+11  3.657250e+11   \n",
       "Common Stock               5.077900e+10  4.517400e+10  4.020100e+10   \n",
       "Other Current Assets       1.126400e+10  1.235200e+10  1.208700e+10   \n",
       "Retained Earnings          1.496600e+10  4.589800e+10  7.040000e+10   \n",
       "Other Liab                 4.610800e+10  5.050300e+10  4.891400e+10   \n",
       "Treasury Stock            -4.060000e+08 -5.840000e+08 -3.454000e+09   \n",
       "Other Assets               3.395200e+10  3.297800e+10  2.228300e+10   \n",
       "Cash                       3.801600e+10  4.884400e+10  2.591300e+10   \n",
       "Total Current Liabilities  1.053920e+11  1.057180e+11  1.159290e+11   \n",
       "Short Long Term Debt       8.773000e+09  1.026000e+10  8.784000e+09   \n",
       "Other Stockholder Equity  -4.060000e+08 -5.840000e+08 -3.454000e+09   \n",
       "Property Plant Equipment   4.533600e+10  3.737800e+10  4.130400e+10   \n",
       "Total Current Assets       1.437130e+11  1.628190e+11  1.313390e+11   \n",
       "Long Term Investments      1.008870e+11  1.053410e+11  1.707990e+11   \n",
       "Net Tangible Assets        6.533900e+10  9.048800e+10  1.071470e+11   \n",
       "Short Term Investments     5.292700e+10  5.171300e+10  4.038800e+10   \n",
       "Net Receivables            3.744500e+10  4.580400e+10  4.899500e+10   \n",
       "Long Term Debt             9.866700e+10  9.180700e+10  9.373500e+10   \n",
       "Inventory                  4.061000e+09  4.106000e+09  3.956000e+09   \n",
       "Accounts Payable           4.229600e+10  4.623600e+10  5.588800e+10   \n",
       "\n",
       "                             2017-09-30  \n",
       "Total Liab                 2.412720e+11  \n",
       "Total Stockholder Equity   1.340470e+11  \n",
       "Other Current Liab         3.809900e+10  \n",
       "Total Assets               3.753190e+11  \n",
       "Common Stock               3.586700e+10  \n",
       "Other Current Assets       1.393600e+10  \n",
       "Retained Earnings          9.833000e+10  \n",
       "Other Liab                 4.325100e+10  \n",
       "Treasury Stock            -1.500000e+08  \n",
       "Other Assets               1.817700e+10  \n",
       "Cash                       2.028900e+10  \n",
       "Total Current Liabilities  1.008140e+11  \n",
       "Short Long Term Debt       6.496000e+09  \n",
       "Other Stockholder Equity  -1.500000e+08  \n",
       "Property Plant Equipment   3.378300e+10  \n",
       "Total Current Assets       1.286450e+11  \n",
       "Long Term Investments      1.947140e+11  \n",
       "Net Tangible Assets        1.340470e+11  \n",
       "Short Term Investments     5.389200e+10  \n",
       "Net Receivables            3.567300e+10  \n",
       "Long Term Debt             9.720700e+10  \n",
       "Inventory                  4.855000e+09  \n",
       "Accounts Payable           4.424200e+10  "
      ],
      "text/html": "<div>\n<style scoped>\n    .dataframe tbody tr th:only-of-type {\n        vertical-align: middle;\n    }\n\n    .dataframe tbody tr th {\n        vertical-align: top;\n    }\n\n    .dataframe thead th {\n        text-align: right;\n    }\n</style>\n<table border=\"1\" class=\"dataframe\">\n  <thead>\n    <tr style=\"text-align: right;\">\n      <th></th>\n      <th>2020-09-26</th>\n      <th>2019-09-28</th>\n      <th>2018-09-29</th>\n      <th>2017-09-30</th>\n    </tr>\n  </thead>\n  <tbody>\n    <tr>\n      <th>Total Liab</th>\n      <td>2.585490e+11</td>\n      <td>2.480280e+11</td>\n      <td>2.585780e+11</td>\n      <td>2.412720e+11</td>\n    </tr>\n    <tr>\n      <th>Total Stockholder Equity</th>\n      <td>6.533900e+10</td>\n      <td>9.048800e+10</td>\n      <td>1.071470e+11</td>\n      <td>1.340470e+11</td>\n    </tr>\n    <tr>\n      <th>Other Current Liab</th>\n      <td>4.786700e+10</td>\n      <td>4.324200e+10</td>\n      <td>3.929300e+10</td>\n      <td>3.809900e+10</td>\n    </tr>\n    <tr>\n      <th>Total Assets</th>\n      <td>3.238880e+11</td>\n      <td>3.385160e+11</td>\n      <td>3.657250e+11</td>\n      <td>3.753190e+11</td>\n    </tr>\n    <tr>\n      <th>Common Stock</th>\n      <td>5.077900e+10</td>\n      <td>4.517400e+10</td>\n      <td>4.020100e+10</td>\n      <td>3.586700e+10</td>\n    </tr>\n    <tr>\n      <th>Other Current Assets</th>\n      <td>1.126400e+10</td>\n      <td>1.235200e+10</td>\n      <td>1.208700e+10</td>\n      <td>1.393600e+10</td>\n    </tr>\n    <tr>\n      <th>Retained Earnings</th>\n      <td>1.496600e+10</td>\n      <td>4.589800e+10</td>\n      <td>7.040000e+10</td>\n      <td>9.833000e+10</td>\n    </tr>\n    <tr>\n      <th>Other Liab</th>\n      <td>4.610800e+10</td>\n      <td>5.050300e+10</td>\n      <td>4.891400e+10</td>\n      <td>4.325100e+10</td>\n    </tr>\n    <tr>\n      <th>Treasury Stock</th>\n      <td>-4.060000e+08</td>\n      <td>-5.840000e+08</td>\n      <td>-3.454000e+09</td>\n      <td>-1.500000e+08</td>\n    </tr>\n    <tr>\n      <th>Other Assets</th>\n      <td>3.395200e+10</td>\n      <td>3.297800e+10</td>\n      <td>2.228300e+10</td>\n      <td>1.817700e+10</td>\n    </tr>\n    <tr>\n      <th>Cash</th>\n      <td>3.801600e+10</td>\n      <td>4.884400e+10</td>\n      <td>2.591300e+10</td>\n      <td>2.028900e+10</td>\n    </tr>\n    <tr>\n      <th>Total Current Liabilities</th>\n      <td>1.053920e+11</td>\n      <td>1.057180e+11</td>\n      <td>1.159290e+11</td>\n      <td>1.008140e+11</td>\n    </tr>\n    <tr>\n      <th>Short Long Term Debt</th>\n      <td>8.773000e+09</td>\n      <td>1.026000e+10</td>\n      <td>8.784000e+09</td>\n      <td>6.496000e+09</td>\n    </tr>\n    <tr>\n      <th>Other Stockholder Equity</th>\n      <td>-4.060000e+08</td>\n      <td>-5.840000e+08</td>\n      <td>-3.454000e+09</td>\n      <td>-1.500000e+08</td>\n    </tr>\n    <tr>\n      <th>Property Plant Equipment</th>\n      <td>4.533600e+10</td>\n      <td>3.737800e+10</td>\n      <td>4.130400e+10</td>\n      <td>3.378300e+10</td>\n    </tr>\n    <tr>\n      <th>Total Current Assets</th>\n      <td>1.437130e+11</td>\n      <td>1.628190e+11</td>\n      <td>1.313390e+11</td>\n      <td>1.286450e+11</td>\n    </tr>\n    <tr>\n      <th>Long Term Investments</th>\n      <td>1.008870e+11</td>\n      <td>1.053410e+11</td>\n      <td>1.707990e+11</td>\n      <td>1.947140e+11</td>\n    </tr>\n    <tr>\n      <th>Net Tangible Assets</th>\n      <td>6.533900e+10</td>\n      <td>9.048800e+10</td>\n      <td>1.071470e+11</td>\n      <td>1.340470e+11</td>\n    </tr>\n    <tr>\n      <th>Short Term Investments</th>\n      <td>5.292700e+10</td>\n      <td>5.171300e+10</td>\n      <td>4.038800e+10</td>\n      <td>5.389200e+10</td>\n    </tr>\n    <tr>\n      <th>Net Receivables</th>\n      <td>3.744500e+10</td>\n      <td>4.580400e+10</td>\n      <td>4.899500e+10</td>\n      <td>3.567300e+10</td>\n    </tr>\n    <tr>\n      <th>Long Term Debt</th>\n      <td>9.866700e+10</td>\n      <td>9.180700e+10</td>\n      <td>9.373500e+10</td>\n      <td>9.720700e+10</td>\n    </tr>\n    <tr>\n      <th>Inventory</th>\n      <td>4.061000e+09</td>\n      <td>4.106000e+09</td>\n      <td>3.956000e+09</td>\n      <td>4.855000e+09</td>\n    </tr>\n    <tr>\n      <th>Accounts Payable</th>\n      <td>4.229600e+10</td>\n      <td>4.623600e+10</td>\n      <td>5.588800e+10</td>\n      <td>4.424200e+10</td>\n    </tr>\n  </tbody>\n</table>\n</div>"
     },
     "metadata": {},
     "execution_count": 5
    }
   ],
   "source": [
    "ticker.balance_sheet"
   ]
  },
  {
   "cell_type": "code",
   "execution_count": 6,
   "id": "b4afff82-0048-44a6-bcd8-3e73efbc151d",
   "metadata": {},
   "outputs": [
    {
     "output_type": "execute_result",
     "data": {
      "text/plain": [
       "'US0378331005'"
      ]
     },
     "metadata": {},
     "execution_count": 6
    }
   ],
   "source": [
    "ticker.isin"
   ]
  },
  {
   "cell_type": "code",
   "execution_count": 7,
   "metadata": {},
   "outputs": [
    {
     "output_type": "stream",
     "name": "stdout",
     "text": [
      "[*********************100%***********************]  1 of 1 completed\n",
      "[*********************100%***********************]  1 of 1 completed\n"
     ]
    },
    {
     "output_type": "execute_result",
     "data": {
      "text/plain": [
       "                  Open        High         Low       Close   Adj Close  \\\n",
       "Date                                                                     \n",
       "2021-05-21  127.820000  128.000000  125.209999  125.430000  125.430000   \n",
       "2021-05-24  126.010002  127.934998  125.940002  127.099998  127.099998   \n",
       "2021-05-21  247.570007  248.330002  244.740005  245.169998  245.169998   \n",
       "2021-05-24  247.785004  251.149994  247.509995  250.779999  250.779999   \n",
       "\n",
       "              Volume ticker  \n",
       "Date                         \n",
       "2021-05-21  79209300   AAPL  \n",
       "2021-05-24  63092945   AAPL  \n",
       "2021-05-21  21855500   MSFT  \n",
       "2021-05-24  21411547   MSFT  "
      ],
      "text/html": "<div>\n<style scoped>\n    .dataframe tbody tr th:only-of-type {\n        vertical-align: middle;\n    }\n\n    .dataframe tbody tr th {\n        vertical-align: top;\n    }\n\n    .dataframe thead th {\n        text-align: right;\n    }\n</style>\n<table border=\"1\" class=\"dataframe\">\n  <thead>\n    <tr style=\"text-align: right;\">\n      <th></th>\n      <th>Open</th>\n      <th>High</th>\n      <th>Low</th>\n      <th>Close</th>\n      <th>Adj Close</th>\n      <th>Volume</th>\n      <th>ticker</th>\n    </tr>\n    <tr>\n      <th>Date</th>\n      <th></th>\n      <th></th>\n      <th></th>\n      <th></th>\n      <th></th>\n      <th></th>\n      <th></th>\n    </tr>\n  </thead>\n  <tbody>\n    <tr>\n      <th>2021-05-21</th>\n      <td>127.820000</td>\n      <td>128.000000</td>\n      <td>125.209999</td>\n      <td>125.430000</td>\n      <td>125.430000</td>\n      <td>79209300</td>\n      <td>AAPL</td>\n    </tr>\n    <tr>\n      <th>2021-05-24</th>\n      <td>126.010002</td>\n      <td>127.934998</td>\n      <td>125.940002</td>\n      <td>127.099998</td>\n      <td>127.099998</td>\n      <td>63092945</td>\n      <td>AAPL</td>\n    </tr>\n    <tr>\n      <th>2021-05-21</th>\n      <td>247.570007</td>\n      <td>248.330002</td>\n      <td>244.740005</td>\n      <td>245.169998</td>\n      <td>245.169998</td>\n      <td>21855500</td>\n      <td>MSFT</td>\n    </tr>\n    <tr>\n      <th>2021-05-24</th>\n      <td>247.785004</td>\n      <td>251.149994</td>\n      <td>247.509995</td>\n      <td>250.779999</td>\n      <td>250.779999</td>\n      <td>21411547</td>\n      <td>MSFT</td>\n    </tr>\n  </tbody>\n</table>\n</div>"
     },
     "metadata": {},
     "execution_count": 7
    }
   ],
   "source": [
    "tickerStrings = ['AAPL', 'MSFT']\n",
    "df_list = list()\n",
    "for ticker in tickerStrings:\n",
    "    data = yf.download(ticker, group_by=\"Ticker\", period='2d')\n",
    "    data['ticker'] = ticker  # add this column becasue the dataframe doesn't contain a column with the ticker\n",
    "    df_list.append(data)\n",
    "\n",
    "# combine all dataframes into a single dataframe\n",
    "df = pd.concat(df_list)\n",
    "\n",
    "# save to csv\n",
    "# df.to_csv('ticker.csv')\n",
    "\n",
    "df"
   ]
  },
  {
   "cell_type": "code",
   "execution_count": 8,
   "metadata": {},
   "outputs": [
    {
     "output_type": "stream",
     "name": "stdout",
     "text": [
      "[*********************100%***********************]  4 of 4 completed\n",
      "MSFT close prices : [244.61515808 242.52000427 243.11999512 246.47999573 245.16999817]\n"
     ]
    },
    {
     "output_type": "execute_result",
     "data": {
      "text/plain": [
       "                  TSLA                                                \\\n",
       "                  Open        High         Low       Close    Volume   \n",
       "Date                                                                   \n",
       "2021-05-17  575.549988  589.729980  561.200012  576.830017  32390400   \n",
       "2021-05-18  568.000000  596.250000  563.380005  577.869995  36830600   \n",
       "2021-05-19  552.549988  566.210022  546.979980  563.460022  39578400   \n",
       "2021-05-20  575.000000  588.849976  571.070007  586.780029  30821100   \n",
       "2021-05-21  596.109985  596.679993  580.000000  580.880005  25943600   \n",
       "\n",
       "                  MSFT                                                \\\n",
       "                  Open        High         Low       Close    Volume   \n",
       "Date                                                                   \n",
       "2021-05-17  245.982012  246.021913  242.958994  244.615158  24970200   \n",
       "2021-05-18  245.702658  245.842335  242.340411  242.520004  20168000   \n",
       "2021-05-19  239.309998  243.229996  238.600006  243.119995  25739800   \n",
       "2021-05-20  243.960007  247.949997  243.860001  246.479996  21800700   \n",
       "2021-05-21  247.570007  248.330002  244.740005  245.169998  21855500   \n",
       "\n",
       "                   SPY                                                 \\\n",
       "                  Open        High         Low       Close     Volume   \n",
       "Date                                                                    \n",
       "2021-05-17  415.390015  416.390015  413.359985  415.519989   65129200   \n",
       "2021-05-18  415.799988  416.059998  411.769989  411.940002   59810200   \n",
       "2021-05-19  406.920013  411.049988  405.329987  410.859985  106467100   \n",
       "2021-05-20  411.799988  416.630005  411.670013  415.279999   78022200   \n",
       "2021-05-21  416.869995  418.200012  414.450012  414.940002   76519100   \n",
       "\n",
       "                  AAPL                                                \n",
       "                  Open        High         Low       Close    Volume  \n",
       "Date                                                                  \n",
       "2021-05-17  126.820000  126.930000  125.169998  126.269997  74244600  \n",
       "2021-05-18  126.559998  126.989998  124.779999  124.849998  63342900  \n",
       "2021-05-19  123.160004  124.919998  122.860001  124.690002  92612000  \n",
       "2021-05-20  125.230003  127.720001  125.099998  127.309998  76857100  \n",
       "2021-05-21  127.820000  128.000000  125.209999  125.430000  79209300  "
      ],
      "text/html": "<div>\n<style scoped>\n    .dataframe tbody tr th:only-of-type {\n        vertical-align: middle;\n    }\n\n    .dataframe tbody tr th {\n        vertical-align: top;\n    }\n\n    .dataframe thead tr th {\n        text-align: left;\n    }\n\n    .dataframe thead tr:last-of-type th {\n        text-align: right;\n    }\n</style>\n<table border=\"1\" class=\"dataframe\">\n  <thead>\n    <tr>\n      <th></th>\n      <th colspan=\"5\" halign=\"left\">TSLA</th>\n      <th colspan=\"5\" halign=\"left\">MSFT</th>\n      <th colspan=\"5\" halign=\"left\">SPY</th>\n      <th colspan=\"5\" halign=\"left\">AAPL</th>\n    </tr>\n    <tr>\n      <th></th>\n      <th>Open</th>\n      <th>High</th>\n      <th>Low</th>\n      <th>Close</th>\n      <th>Volume</th>\n      <th>Open</th>\n      <th>High</th>\n      <th>Low</th>\n      <th>Close</th>\n      <th>Volume</th>\n      <th>Open</th>\n      <th>High</th>\n      <th>Low</th>\n      <th>Close</th>\n      <th>Volume</th>\n      <th>Open</th>\n      <th>High</th>\n      <th>Low</th>\n      <th>Close</th>\n      <th>Volume</th>\n    </tr>\n    <tr>\n      <th>Date</th>\n      <th></th>\n      <th></th>\n      <th></th>\n      <th></th>\n      <th></th>\n      <th></th>\n      <th></th>\n      <th></th>\n      <th></th>\n      <th></th>\n      <th></th>\n      <th></th>\n      <th></th>\n      <th></th>\n      <th></th>\n      <th></th>\n      <th></th>\n      <th></th>\n      <th></th>\n      <th></th>\n    </tr>\n  </thead>\n  <tbody>\n    <tr>\n      <th>2021-05-17</th>\n      <td>575.549988</td>\n      <td>589.729980</td>\n      <td>561.200012</td>\n      <td>576.830017</td>\n      <td>32390400</td>\n      <td>245.982012</td>\n      <td>246.021913</td>\n      <td>242.958994</td>\n      <td>244.615158</td>\n      <td>24970200</td>\n      <td>415.390015</td>\n      <td>416.390015</td>\n      <td>413.359985</td>\n      <td>415.519989</td>\n      <td>65129200</td>\n      <td>126.820000</td>\n      <td>126.930000</td>\n      <td>125.169998</td>\n      <td>126.269997</td>\n      <td>74244600</td>\n    </tr>\n    <tr>\n      <th>2021-05-18</th>\n      <td>568.000000</td>\n      <td>596.250000</td>\n      <td>563.380005</td>\n      <td>577.869995</td>\n      <td>36830600</td>\n      <td>245.702658</td>\n      <td>245.842335</td>\n      <td>242.340411</td>\n      <td>242.520004</td>\n      <td>20168000</td>\n      <td>415.799988</td>\n      <td>416.059998</td>\n      <td>411.769989</td>\n      <td>411.940002</td>\n      <td>59810200</td>\n      <td>126.559998</td>\n      <td>126.989998</td>\n      <td>124.779999</td>\n      <td>124.849998</td>\n      <td>63342900</td>\n    </tr>\n    <tr>\n      <th>2021-05-19</th>\n      <td>552.549988</td>\n      <td>566.210022</td>\n      <td>546.979980</td>\n      <td>563.460022</td>\n      <td>39578400</td>\n      <td>239.309998</td>\n      <td>243.229996</td>\n      <td>238.600006</td>\n      <td>243.119995</td>\n      <td>25739800</td>\n      <td>406.920013</td>\n      <td>411.049988</td>\n      <td>405.329987</td>\n      <td>410.859985</td>\n      <td>106467100</td>\n      <td>123.160004</td>\n      <td>124.919998</td>\n      <td>122.860001</td>\n      <td>124.690002</td>\n      <td>92612000</td>\n    </tr>\n    <tr>\n      <th>2021-05-20</th>\n      <td>575.000000</td>\n      <td>588.849976</td>\n      <td>571.070007</td>\n      <td>586.780029</td>\n      <td>30821100</td>\n      <td>243.960007</td>\n      <td>247.949997</td>\n      <td>243.860001</td>\n      <td>246.479996</td>\n      <td>21800700</td>\n      <td>411.799988</td>\n      <td>416.630005</td>\n      <td>411.670013</td>\n      <td>415.279999</td>\n      <td>78022200</td>\n      <td>125.230003</td>\n      <td>127.720001</td>\n      <td>125.099998</td>\n      <td>127.309998</td>\n      <td>76857100</td>\n    </tr>\n    <tr>\n      <th>2021-05-21</th>\n      <td>596.109985</td>\n      <td>596.679993</td>\n      <td>580.000000</td>\n      <td>580.880005</td>\n      <td>25943600</td>\n      <td>247.570007</td>\n      <td>248.330002</td>\n      <td>244.740005</td>\n      <td>245.169998</td>\n      <td>21855500</td>\n      <td>416.869995</td>\n      <td>418.200012</td>\n      <td>414.450012</td>\n      <td>414.940002</td>\n      <td>76519100</td>\n      <td>127.820000</td>\n      <td>128.000000</td>\n      <td>125.209999</td>\n      <td>125.430000</td>\n      <td>79209300</td>\n    </tr>\n  </tbody>\n</table>\n</div>"
     },
     "metadata": {},
     "execution_count": 8
    }
   ],
   "source": [
    "tickers = 'AAPL,TSLA,MSFT,'\n",
    "indices = 'SPY,'\n",
    "\n",
    "df = yf.download(\n",
    "    tickers = indices + tickers,\n",
    "    group_by='ticker',\n",
    "    start='2021-05-18', end='2021-05-23',\n",
    "    interval = '1d',\n",
    "    auto_adjust = True,\n",
    "    threads = True\n",
    "    )\n",
    "#df = df.stack(level=0).rename_axis(['Date', 'Ticker']).reset_index(level=1)\n",
    "#print(df[\"AAPL\"])\n",
    "\n",
    "#print(df)\n",
    "print(f\"MSFT close prices : {df['MSFT'].Close.values}\")\n",
    "df"
   ]
  },
  {
   "cell_type": "code",
   "execution_count": 9,
   "metadata": {},
   "outputs": [
    {
     "output_type": "stream",
     "name": "stdout",
     "text": [
      "Close   -0.000325\ndtype: float64\nClose    0.008105\ndtype: float64\n"
     ]
    }
   ],
   "source": [
    "spyPrices = df['SPY'][['Close']]\n",
    "spyReturns = spyPrices.pct_change()\n",
    "print(spyReturns.mean())\n",
    "print(spyReturns.std())\n",
    "#data.columns = [col[1] for col in data.columns]\n",
    "#d2 = [data.iloc[:,i] for i in range(len(data.columns))]\n",
    "#d2\n"
   ]
  }
 ],
 "metadata": {
  "kernelspec": {
   "name": "python394jvsc74a57bd0fdbafed433bad546f9c4036d3f0beb14901a1516bb277b7e284dedd556c7676b",
   "display_name": "Python 3.9.4 64-bit ('py3': conda)"
  },
  "language_info": {
   "codemirror_mode": {
    "name": "ipython",
    "version": 3
   },
   "file_extension": ".py",
   "mimetype": "text/x-python",
   "name": "python",
   "nbconvert_exporter": "python",
   "pygments_lexer": "ipython3",
   "version": "3.9.4"
  }
 },
 "nbformat": 4,
 "nbformat_minor": 5
}