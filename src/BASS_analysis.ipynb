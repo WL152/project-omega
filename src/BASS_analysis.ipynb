{
 "metadata": {
  "language_info": {
   "codemirror_mode": {
    "name": "ipython",
    "version": 3
   },
   "file_extension": ".py",
   "mimetype": "text/x-python",
   "name": "python",
   "nbconvert_exporter": "python",
   "pygments_lexer": "ipython3",
   "version": "3.9.4"
  },
  "orig_nbformat": 2,
  "kernelspec": {
   "name": "python394jvsc74a57bd0fdbafed433bad546f9c4036d3f0beb14901a1516bb277b7e284dedd556c7676b",
   "display_name": "Python 3.9.4 64-bit ('py3': conda)"
  }
 },
 "nbformat": 4,
 "nbformat_minor": 2,
 "cells": [
  {
   "cell_type": "code",
   "execution_count": 62,
   "metadata": {},
   "outputs": [
    {
     "output_type": "stream",
     "name": "stdout",
     "text": [
      "Requirement already satisfied: yfinance in c:\\users\\alexey\\anaconda3\\envs\\py3\\lib\\site-packages (0.1.59)\nRequirement already satisfied: lxml>=4.5.1 in c:\\users\\alexey\\anaconda3\\envs\\py3\\lib\\site-packages (from yfinance) (4.6.3)\nRequirement already satisfied: multitasking>=0.0.7 in c:\\users\\alexey\\anaconda3\\envs\\py3\\lib\\site-packages (from yfinance) (0.0.9)\nRequirement already satisfied: numpy>=1.15 in c:\\users\\alexey\\anaconda3\\envs\\py3\\lib\\site-packages (from yfinance) (1.20.1)\nRequirement already satisfied: requests>=2.20 in c:\\users\\alexey\\anaconda3\\envs\\py3\\lib\\site-packages (from yfinance) (2.25.1)\nRequirement already satisfied: pandas>=0.24 in c:\\users\\alexey\\anaconda3\\envs\\py3\\lib\\site-packages (from yfinance) (1.2.4)\nRequirement already satisfied: pytz>=2017.3 in c:\\users\\alexey\\anaconda3\\envs\\py3\\lib\\site-packages (from pandas>=0.24->yfinance) (2021.1)\nRequirement already satisfied: python-dateutil>=2.7.3 in c:\\users\\alexey\\anaconda3\\envs\\py3\\lib\\site-packages (from pandas>=0.24->yfinance) (2.8.1)\nRequirement already satisfied: six>=1.5 in c:\\users\\alexey\\appdata\\roaming\\python\\python39\\site-packages (from python-dateutil>=2.7.3->pandas>=0.24->yfinance) (1.15.0)\nRequirement already satisfied: chardet<5,>=3.0.2 in c:\\users\\alexey\\anaconda3\\envs\\py3\\lib\\site-packages (from requests>=2.20->yfinance) (4.0.0)\nRequirement already satisfied: certifi>=2017.4.17 in c:\\users\\alexey\\anaconda3\\envs\\py3\\lib\\site-packages (from requests>=2.20->yfinance) (2020.12.5)\nRequirement already satisfied: idna<3,>=2.5 in c:\\users\\alexey\\anaconda3\\envs\\py3\\lib\\site-packages (from requests>=2.20->yfinance) (2.10)\nRequirement already satisfied: urllib3<1.27,>=1.21.1 in c:\\users\\alexey\\anaconda3\\envs\\py3\\lib\\site-packages (from requests>=2.20->yfinance) (1.26.4)\nNote: you may need to restart the kernel to use updated packages.\n"
     ]
    }
   ],
   "source": [
    "%pip install yfinance\n",
    "import yfinance as yf\n",
    "import pandas as pd\n",
    "import numpy as np"
   ]
  },
  {
   "cell_type": "code",
   "execution_count": 63,
   "metadata": {},
   "outputs": [
    {
     "output_type": "stream",
     "name": "stdout",
     "text": [
      "[*********************100%***********************]  4 of 4 completed\n",
      "Downloaded 253 days of market data for indices : SPY, and tickers : AAPL,TSLA,MSFT,\n",
      "Index : DatetimeIndex(['2020-05-18', '2020-05-19', '2020-05-20', '2020-05-21',\n",
      "               '2020-05-22'],\n",
      "              dtype='datetime64[ns]', name='Date', freq=None)...\n",
      "Columns : MultiIndex([('TSLA',   'Open'),\n",
      "            ('TSLA',   'High'),\n",
      "            ('TSLA',    'Low'),\n",
      "            ('TSLA',  'Close'),\n",
      "            ('TSLA', 'Volume')],\n",
      "           )...\n"
     ]
    }
   ],
   "source": [
    "tickers = 'AAPL,TSLA,MSFT,'\n",
    "indices = 'SPY,'\n",
    "\n",
    "md = yf.download(\n",
    "    tickers = indices + tickers,\n",
    "    group_by='ticker',\n",
    "    start='2020-05-19', end='2021-05-19',\n",
    "    interval = '1d',\n",
    "    auto_adjust = True,\n",
    "    threads = True\n",
    "    )\n",
    "\n",
    "print(f'Downloaded {len(md)} days of market data for indices : {indices} and tickers : {tickers}')\n",
    "\n",
    "md['SPY'].tail()\n",
    "print(f\"Index : {md.index[:5]}...\")\n",
    "print(f\"Columns : {md.columns[:5]}...\")\n",
    "\n"
   ]
  },
  {
   "cell_type": "code",
   "execution_count": 64,
   "metadata": {
    "tags": []
   },
   "outputs": [
    {
     "output_type": "stream",
     "name": "stdout",
     "text": [
      "0    290.343842\n1    287.361664\n2    292.243408\n3    290.225769\n4    290.776947\nName: SPY, dtype: float64\n0         NaN\n1   -0.010271\n2    0.016988\n3   -0.006904\n4    0.001899\nName: SPY, dtype: float64\n"
     ]
    }
   ],
   "source": [
    "def getPriceAndReturn(md):\n",
    "    priceField = 'Close'\n",
    "    prices = pd.DataFrame()\n",
    "    returns = pd.DataFrame()\n",
    "    for ticker, kind in md.columns:\n",
    "        if kind == priceField:\n",
    "            prices[ticker] = md[ticker][[priceField]].values.reshape(1, -1).ravel()\n",
    "            returns[ticker] = prices[ticker].pct_change()\n",
    "    return prices, returns\n",
    "\n",
    "prices, returns = getPriceAndReturn(md)\n",
    "\n",
    "print(prices['SPY'].head())\n",
    "print(returns['SPY'].head())\n",
    "\n"
   ]
  },
  {
   "cell_type": "code",
   "execution_count": 141,
   "metadata": {},
   "outputs": [
    {
     "output_type": "stream",
     "name": "stdout",
     "text": [
      "Daily return SPY mean : 0.0014474968820360192\nDaily return SPY std  : 0.010791323551446576\nBasic return stats (mean, std, sharpe ratio, total return) :\n                 TSLA      MSFT       SPY      AAPL\nDailyMean    0.006091  0.001280  0.001447  0.002102\nDailyStd     0.046060  0.017525  0.010791  0.022180\nAnualSR      2.099086  1.159051  2.129331  1.504477\nTotalReturn  2.551184  0.327944  0.418801  0.596282\n"
     ]
    }
   ],
   "source": [
    "def getStats(prices, returns):\n",
    "    mean = []\n",
    "    std = []\n",
    "    sharpe = []\n",
    "    totReturn = []\n",
    "\n",
    "    for ticker in returns.columns:\n",
    "        pr = prices[ticker]\n",
    "        ret = returns[ticker]\n",
    "\n",
    "        totReturn.append((pr.iloc[-1] - pr.iloc[0]) / pr.iloc[0])\n",
    "        mean.append(ret.mean())\n",
    "        std.append(ret.std())\n",
    "\n",
    "        sharpe.append(mean[-1] / std[-1] * (252**0.5)) #TODO consider adding risk free rate\n",
    "\n",
    "    return pd.DataFrame.from_dict(\n",
    "        {'DailyMean' : mean, 'DailyStd' : std, 'AnualSR' : sharpe, 'TotalReturn' : totReturn},\n",
    "        orient='index', columns=returns.columns)\n",
    "\n",
    "print(f\"Daily return SPY mean : {stats['SPY']['DailyMean']}\")\n",
    "print(f\"Daily return SPY std  : {stats['SPY']['DailyStd']}\")\n",
    "\n",
    "stats = getStats(prices, returns)\n",
    "print(f\"Basic return stats (mean, std, sharpe ratio, total return) :\\n{stats}\")"
   ]
  },
  {
   "cell_type": "code",
   "execution_count": 142,
   "metadata": {},
   "outputs": [
    {
     "output_type": "stream",
     "name": "stdout",
     "text": [
      "Correlation matrix :\n          TSLA      MSFT       SPY      AAPL\nTSLA  1.000000  0.488779  0.464253  0.477201\nMSFT  0.488779  1.000000  0.735201  0.700225\nSPY   0.464253  0.735201  1.000000  0.674270\nAAPL  0.477201  0.700225  0.674270  1.000000\n\nTest Correlation TSLA/MSFT: 0.48877904276818845\ncorr.loc['TSLA','SPY'] : 0.4642533884028333\n"
     ]
    }
   ],
   "source": [
    "def getCovAndCorr(returns, stats):\n",
    "    cov = []\n",
    "    corr = []\n",
    "\n",
    "    for i in range(len(returns.columns)):\n",
    "        covColumn = []\n",
    "        corrColumn = []\n",
    "        \n",
    "        iname = returns.columns[i]\n",
    "        for j in range(i):\n",
    "            covColumn.append(cov[j][i])\n",
    "            corrColumn.append(corr[j][i])\n",
    "        iStd = stats[iname][\"DailyStd\"]\n",
    "        covColumn.append(iStd * iStd)\n",
    "        corrColumn.append(1)\n",
    "        for j in range(i+1, len(returns.columns)):\n",
    "            jname = returns.columns[j]\n",
    "            jStd = stats[jname][\"DailyStd\"]\n",
    "            tickerCov = returns[iname].cov(returns[jname])\n",
    "            covColumn.append(tickerCov)\n",
    "            corrColumn.append(tickerCov / (iStd * jStd))\n",
    "        cov.append(covColumn)\n",
    "        corr.append(corrColumn)\n",
    "\n",
    "    covDf = pd.DataFrame(cov, index = returns.columns, columns = returns.columns)\n",
    "    corrDf = pd.DataFrame(corr, index = returns.columns, columns = returns.columns)\n",
    "    return covDf, corrDf\n",
    "\n",
    "cov, corr = getCovAndCorr(returns, stats)\n",
    "\n",
    "print(f\"Correlation matrix :\\n{corr}\\n\")\n",
    "print(f\"Test Correlation TSLA/MSFT: {returns['TSLA'].cov(returns['MSFT'])/(stats['TSLA']['DailyStd'] * stats['MSFT']['DailyStd'])}\")\n",
    "'''\n",
    "print(f\"Covariance :\\n{cov}\\n\")\n",
    "print(f\"Test Covariance TSLA/MSFT: {returns['TSLA'].cov(returns['MSFT'])}\")\n",
    "print(f\"Covarience SPY column :\\n{cov['SPY']}\")\n",
    "print(f\"Covarience TSLA row :\\n{cov.loc['TSLA']}\")\n",
    "print(f\"corr.loc['SPY','TSLA'] : {corr.loc['SPY','TSLA']}\")\n",
    "'''\n",
    "print(f\"corr.loc['TSLA','SPY'] : {corr.loc['TSLA','SPY']}\")\n"
   ]
  },
  {
   "cell_type": "code",
   "execution_count": 158,
   "metadata": {},
   "outputs": [
    {
     "output_type": "execute_result",
     "data": {
      "text/plain": [
       "           AAPL      TSLA      MSFT\n",
       "alpha  0.015872  1.721312 -0.172086\n",
       "beta   1.385885  1.981545  1.193959"
      ],
      "text/html": "<div>\n<style scoped>\n    .dataframe tbody tr th:only-of-type {\n        vertical-align: middle;\n    }\n\n    .dataframe tbody tr th {\n        vertical-align: top;\n    }\n\n    .dataframe thead th {\n        text-align: right;\n    }\n</style>\n<table border=\"1\" class=\"dataframe\">\n  <thead>\n    <tr style=\"text-align: right;\">\n      <th></th>\n      <th>AAPL</th>\n      <th>TSLA</th>\n      <th>MSFT</th>\n    </tr>\n  </thead>\n  <tbody>\n    <tr>\n      <th>alpha</th>\n      <td>0.015872</td>\n      <td>1.721312</td>\n      <td>-0.172086</td>\n    </tr>\n    <tr>\n      <th>beta</th>\n      <td>1.385885</td>\n      <td>1.981545</td>\n      <td>1.193959</td>\n    </tr>\n  </tbody>\n</table>\n</div>"
     },
     "metadata": {},
     "execution_count": 158
    }
   ],
   "source": [
    "def getAlphaBetaBenchmark(indices, tickers, cov, stats):\n",
    "    #TODO consider adding risk free rate\n",
    "    benchmark = {}\n",
    "    for index in indices:\n",
    "        alpha = []\n",
    "        beta = []\n",
    "        for ticker in tickers:\n",
    "            indexVarience = cov[index][index]\n",
    "            indexTickerCovarience = cov[index][ticker]\n",
    "            indexTickerBeta = indexTickerCovarience / indexVarience\n",
    "            indexTickerAlpha = stats[ticker]['TotalReturn'] - indexTickerBeta * stats[index]['TotalReturn']\n",
    "            beta.append(indexTickerBeta)\n",
    "            alpha.append(indexTickerAlpha)\n",
    "\n",
    "        benchmark[index] = pd.DataFrame.from_dict({'alpha' : alpha, 'beta' : beta}, orient='index', columns=tickers)\n",
    "    return benchmark\n",
    "\n",
    "abBench = getAlphaBetaBenchmark(\n",
    "    list(filter(None, indices.split(','))),\n",
    "    list(filter(None, tickers.split(','))),\n",
    "    cov, stats)\n",
    "\n",
    "abBench['SPY']"
   ]
  }
 ]
}