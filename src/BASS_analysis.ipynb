{
 "metadata": {
  "language_info": {
   "codemirror_mode": {
    "name": "ipython",
    "version": 3
   },
   "file_extension": ".py",
   "mimetype": "text/x-python",
   "name": "python",
   "nbconvert_exporter": "python",
   "pygments_lexer": "ipython3",
   "version": "3.9.4"
  },
  "orig_nbformat": 2,
  "kernelspec": {
   "name": "python394jvsc74a57bd07812ea015bdcee6f23a998adcdd2ef97c151c0c241b7b7070987d9313e41299d",
   "display_name": "Python 3.9.4 64-bit ('3.9')"
  }
 },
 "nbformat": 4,
 "nbformat_minor": 2,
 "cells": [
  {
   "cell_type": "code",
   "execution_count": 9,
   "metadata": {},
   "outputs": [
    {
     "output_type": "stream",
     "name": "stdout",
     "text": [
      "Requirement already satisfied: yfinance in /Library/Frameworks/Python.framework/Versions/3.9/lib/python3.9/site-packages (0.1.59)\n",
      "Requirement already satisfied: pandas>=0.24 in /Library/Frameworks/Python.framework/Versions/3.9/lib/python3.9/site-packages (from yfinance) (1.2.4)\n",
      "Requirement already satisfied: numpy>=1.15 in /Library/Frameworks/Python.framework/Versions/3.9/lib/python3.9/site-packages (from yfinance) (1.20.3)\n",
      "Requirement already satisfied: requests>=2.20 in /Library/Frameworks/Python.framework/Versions/3.9/lib/python3.9/site-packages (from yfinance) (2.25.1)\n",
      "Requirement already satisfied: multitasking>=0.0.7 in /Library/Frameworks/Python.framework/Versions/3.9/lib/python3.9/site-packages (from yfinance) (0.0.9)\n",
      "Requirement already satisfied: lxml>=4.5.1 in /Library/Frameworks/Python.framework/Versions/3.9/lib/python3.9/site-packages (from yfinance) (4.6.3)\n",
      "Requirement already satisfied: python-dateutil>=2.7.3 in /Library/Frameworks/Python.framework/Versions/3.9/lib/python3.9/site-packages (from pandas>=0.24->yfinance) (2.8.1)\n",
      "Requirement already satisfied: pytz>=2017.3 in /Library/Frameworks/Python.framework/Versions/3.9/lib/python3.9/site-packages (from pandas>=0.24->yfinance) (2021.1)\n",
      "Requirement already satisfied: six>=1.5 in /Library/Frameworks/Python.framework/Versions/3.9/lib/python3.9/site-packages (from python-dateutil>=2.7.3->pandas>=0.24->yfinance) (1.16.0)\n",
      "Requirement already satisfied: urllib3<1.27,>=1.21.1 in /Library/Frameworks/Python.framework/Versions/3.9/lib/python3.9/site-packages (from requests>=2.20->yfinance) (1.26.4)\n",
      "Requirement already satisfied: idna<3,>=2.5 in /Library/Frameworks/Python.framework/Versions/3.9/lib/python3.9/site-packages (from requests>=2.20->yfinance) (2.10)\n",
      "Requirement already satisfied: certifi>=2017.4.17 in /Library/Frameworks/Python.framework/Versions/3.9/lib/python3.9/site-packages (from requests>=2.20->yfinance) (2020.12.5)\n",
      "Requirement already satisfied: chardet<5,>=3.0.2 in /Library/Frameworks/Python.framework/Versions/3.9/lib/python3.9/site-packages (from requests>=2.20->yfinance) (4.0.0)\n",
      "Note: you may need to restart the kernel to use updated packages.\n"
     ]
    }
   ],
   "source": [
    "%pip install yfinance\n",
    "import yfinance as yf\n",
    "import pandas as pd\n",
    "import numpy as np"
   ]
  },
  {
   "cell_type": "code",
   "execution_count": 10,
   "metadata": {},
   "outputs": [
    {
     "output_type": "stream",
     "name": "stdout",
     "text": [
      "[*********************100%***********************]  22 of 22 completed\n",
      "Downloaded 253 days of market data for indices : SPY, and tickers : AAPL,TSLA,MSFT,GM,BCS,QCOM,PTR,VALE,GS,CI,ENB,CB,LFC,MUFG,NVDA,ASML,ADBE,SONY,AMD,TXN,F,\n",
      "Index : DatetimeIndex(['2020-05-18', '2020-05-19', '2020-05-20', '2020-05-21',\n",
      "               '2020-05-22'],\n",
      "              dtype='datetime64[ns]', name='Date', freq=None)...\n",
      "Columns : MultiIndex([('NVDA',   'Open'),\n",
      "            ('NVDA',   'High'),\n",
      "            ('NVDA',    'Low'),\n",
      "            ('NVDA',  'Close'),\n",
      "            ('NVDA', 'Volume')],\n",
      "           )...\n"
     ]
    }
   ],
   "source": [
    "tickers = 'AAPL,TSLA,MSFT,GM,BCS,QCOM,PTR,VALE,GS,CI,ENB,CB,LFC,MUFG,NVDA,ASML,ADBE,SONY,AMD,TXN,F,'\n",
    "indices = 'SPY,'\n",
    "\n",
    "md = yf.download(\n",
    "    tickers = indices + tickers,\n",
    "    group_by='ticker',\n",
    "    start='2020-05-19', end='2021-05-19',\n",
    "    interval = '1d',\n",
    "    auto_adjust = True,\n",
    "    threads = True\n",
    "    )\n",
    "\n",
    "print(f'Downloaded {len(md)} days of market data for indices : {indices} and tickers : {tickers}')\n",
    "\n",
    "md['SPY'].tail()\n",
    "print(f\"Index : {md.index[:5]}...\")\n",
    "print(f\"Columns : {md.columns[:5]}...\")\n",
    "\n"
   ]
  },
  {
   "cell_type": "code",
   "execution_count": 11,
   "metadata": {
    "tags": []
   },
   "outputs": [
    {
     "output_type": "stream",
     "name": "stdout",
     "text": [
      "0    290.343842\n1    287.361664\n2    292.243408\n3    290.225769\n4    290.776947\nName: SPY, dtype: float64\n0         NaN\n1   -0.010271\n2    0.016988\n3   -0.006904\n4    0.001899\nName: SPY, dtype: float64\n"
     ]
    }
   ],
   "source": [
    "def getPriceAndReturn(md):\n",
    "    priceField = 'Close'\n",
    "    prices = pd.DataFrame()\n",
    "    returns = pd.DataFrame()\n",
    "    for ticker, kind in md.columns:\n",
    "        if kind == priceField:\n",
    "            prices[ticker] = md[ticker][[priceField]].values.reshape(1, -1).ravel()\n",
    "            returns[ticker] = prices[ticker].pct_change()\n",
    "    return prices, returns\n",
    "\n",
    "prices, returns = getPriceAndReturn(md)\n",
    "\n",
    "print(prices['SPY'].head())\n",
    "print(returns['SPY'].head())\n",
    "\n"
   ]
  },
  {
   "cell_type": "code",
   "execution_count": 12,
   "metadata": {},
   "outputs": [
    {
     "output_type": "stream",
     "name": "stdout",
     "text": [
      "Daily return SPY mean : 0.0014474968820360192\nDaily return SPY std  : 0.010791323551446576\nBasic return stats (mean, std, sharpe ratio, total return) :\n                 NVDA       AMD        CI      QCOM       SPY      VALE  \\\nDailyMean    0.002248  0.001694  0.001461  0.002320  0.001447  0.004174   \nDailyStd     0.027271  0.030751  0.021279  0.026079  0.010791  0.024523   \nAnualSR      1.308776  0.874549  1.089657  1.412247  2.129331  2.701746   \nTotalReturn  0.603992  0.363620  0.365772  0.648640  0.418801  1.650893   \n\n                  BCS        GS      SONY       ENB  ...      ASML         F  \\\nDailyMean    0.003214  0.003071  0.001725  0.001179  ...  0.003211  0.003638   \nDailyStd     0.030634  0.021120  0.018099  0.015030  ...  0.023965  0.026592   \nAnualSR      1.665637  2.308167  1.512970  1.245412  ...  2.126632  2.171447   \nTotalReturn  1.000275  1.048213  0.482753  0.308307  ...  1.087622  1.286252   \n\n                   GM      ADBE      MSFT       PTR        CB      AAPL  \\\nDailyMean    0.003590  0.001274  0.001280  0.001146  0.002094  0.002102   \nDailyStd     0.027091  0.020723  0.017525  0.022005  0.020275  0.022180   \nAnualSR      2.103608  0.975894  1.159051  0.826531  1.639294  1.504477   \nTotalReturn  1.252721  0.306139  0.327944  0.256974  0.609495  0.596282   \n\n                 MUFG       LFC  \nDailyMean    0.001725  0.000697  \nDailyStd     0.017706  0.024913  \nAnualSR      1.546885  0.443844  \nTotalReturn  0.484615  0.107044  \n\n[4 rows x 22 columns]\n"
     ]
    }
   ],
   "source": [
    "def getStats(prices, returns):\n",
    "    mean = []\n",
    "    std = []\n",
    "    sharpe = []\n",
    "    totReturn = []\n",
    "\n",
    "    for ticker in returns.columns:\n",
    "        pr = prices[ticker]\n",
    "        ret = returns[ticker]\n",
    "\n",
    "        totReturn.append((pr.iloc[-1] - pr.iloc[0]) / pr.iloc[0])\n",
    "        mean.append(ret.mean())\n",
    "        std.append(ret.std())\n",
    "\n",
    "        sharpe.append(mean[-1] / std[-1] * (252**0.5)) #TODO consider adding risk free rate\n",
    "\n",
    "    return pd.DataFrame.from_dict(\n",
    "        {'DailyMean' : mean, 'DailyStd' : std, 'AnualSR' : sharpe, 'TotalReturn' : totReturn},\n",
    "        orient='index', columns=returns.columns)\n",
    "\n",
    "stats = getStats(prices, returns)\n",
    "\n",
    "print(f\"Daily return SPY mean : {stats['SPY']['DailyMean']}\")\n",
    "print(f\"Daily return SPY std  : {stats['SPY']['DailyStd']}\")\n",
    "\n",
    "print(f\"Basic return stats (mean, std, sharpe ratio, total return) :\\n{stats}\")"
   ]
  },
  {
   "cell_type": "code",
   "execution_count": 13,
   "metadata": {},
   "outputs": [
    {
     "output_type": "stream",
     "name": "stdout",
     "text": [
      "Correlation matrix :\n          NVDA       AMD        CI      QCOM       SPY      VALE       BCS  \\\nNVDA  1.000000  0.696549  0.078520  0.574012  0.591228  0.278942 -0.039333   \nAMD   0.696549  1.000000  0.064646  0.490682  0.461708  0.271666 -0.046718   \nCI    0.078520  0.064646  1.000000  0.173763  0.461357  0.178510  0.323919   \nQCOM  0.574012  0.490682  0.173763  1.000000  0.598438  0.380698  0.151658   \nSPY   0.591228  0.461708  0.461357  0.598438  1.000000  0.510540  0.473770   \nVALE  0.278942  0.271666  0.178510  0.380698  0.510540  1.000000  0.369361   \nBCS  -0.039333 -0.046718  0.323919  0.151658  0.473770  0.369361  1.000000   \nGS    0.085137  0.051499  0.399901  0.226102  0.575174  0.395287  0.666330   \nSONY  0.358647  0.263708  0.032099  0.343778  0.382444  0.335296  0.123734   \nENB   0.128385  0.165534  0.430018  0.249886  0.544283  0.445642  0.444674   \nTSLA  0.514542  0.391549  0.009327  0.386461  0.464253  0.245919  0.108554   \nTXN   0.660693  0.539648  0.219068  0.656078  0.756329  0.454879  0.276537   \nASML  0.650574  0.438955  0.062388  0.586643  0.608903  0.410491  0.175322   \nF     0.034789  0.017970  0.336909  0.174750  0.476156  0.358259  0.524128   \nGM    0.072813 -0.019413  0.333242  0.203877  0.456841  0.324753  0.505261   \nADBE  0.706177  0.529160  0.067559  0.516848  0.630471  0.252737  0.021569   \nMSFT  0.703020  0.508438  0.208508  0.576967  0.735201  0.299073  0.079874   \nPTR   0.105026  0.060758  0.302511  0.095530  0.360997  0.341985  0.459117   \nCB   -0.025501 -0.066512  0.334829  0.134937  0.481787  0.265351  0.497039   \nAAPL  0.646240  0.529390  0.081552  0.517333  0.674270  0.247689  0.072863   \nMUFG  0.001152  0.004411  0.328986  0.190624  0.477819  0.363434  0.614702   \nLFC   0.223322  0.181020  0.205531  0.203310  0.390351  0.290520  0.297869   \n\n            GS      SONY       ENB  ...      ASML         F        GM  \\\nNVDA  0.085137  0.358647  0.128385  ...  0.650574  0.034789  0.072813   \nAMD   0.051499  0.263708  0.165534  ...  0.438955  0.017970 -0.019413   \nCI    0.399901  0.032099  0.430018  ...  0.062388  0.336909  0.333242   \nQCOM  0.226102  0.343778  0.249886  ...  0.586643  0.174750  0.203877   \nSPY   0.575174  0.382444  0.544283  ...  0.608903  0.476156  0.456841   \nVALE  0.395287  0.335296  0.445642  ...  0.410491  0.358259  0.324753   \nBCS   0.666330  0.123734  0.444674  ...  0.175322  0.524128  0.505261   \nGS    1.000000  0.137572  0.494311  ...  0.201808  0.521090  0.503267   \nSONY  0.137572  1.000000  0.163934  ...  0.351065  0.141868  0.153262   \nENB   0.494311  0.163934  1.000000  ...  0.209040  0.416661  0.398182   \nTSLA  0.167587  0.264853  0.121175  ...  0.418153  0.071104  0.066320   \nTXN   0.345927  0.325978  0.279715  ...  0.763458  0.268018  0.313491   \nASML  0.201808  0.351065  0.209040  ...  1.000000  0.227765  0.230843   \nF     0.521090  0.141868  0.416661  ...  0.227765  1.000000  0.737883   \nGM    0.503267  0.153262  0.398182  ...  0.230843  0.737883  1.000000   \nADBE  0.052357  0.350085  0.115023  ...  0.575894  0.025279 -0.009457   \nMSFT  0.168476  0.401818  0.192331  ...  0.566514  0.120411  0.104282   \nPTR   0.345617  0.088298  0.447221  ...  0.207867  0.220547  0.249896   \nCB    0.539136  0.183781  0.346596  ...  0.172076  0.522159  0.440294   \nAAPL  0.191311  0.319904  0.194374  ...  0.486546  0.121614  0.057957   \nMUFG  0.577132  0.232620  0.436735  ...  0.197407  0.469641  0.432737   \nLFC   0.313388  0.161587  0.273284  ...  0.301955  0.200838  0.259293   \n\n          ADBE      MSFT       PTR        CB      AAPL      MUFG       LFC  \nNVDA  0.706177  0.703020  0.105026 -0.025501  0.646240  0.001152  0.223322  \nAMD   0.529160  0.508438  0.060758 -0.066512  0.529390  0.004411  0.181020  \nCI    0.067559  0.208508  0.302511  0.334829  0.081552  0.328986  0.205531  \nQCOM  0.516848  0.576967  0.095530  0.134937  0.517333  0.190624  0.203310  \nSPY   0.630471  0.735201  0.360997  0.481787  0.674270  0.477819  0.390351  \nVALE  0.252737  0.299073  0.341985  0.265351  0.247689  0.363434  0.290520  \nBCS   0.021569  0.079874  0.459117  0.497039  0.072863  0.614702  0.297869  \nGS    0.052357  0.168476  0.345617  0.539136  0.191311  0.577132  0.313388  \nSONY  0.350085  0.401818  0.088298  0.183781  0.319904  0.232620  0.161587  \nENB   0.115023  0.192331  0.447221  0.346596  0.194374  0.436735  0.273284  \nTSLA  0.511124  0.488779  0.085218  0.036525  0.477201  0.076428  0.314819  \nTXN   0.593209  0.633327  0.198752  0.230750  0.530051  0.272889  0.356756  \nASML  0.575894  0.566514  0.207867  0.172076  0.486546  0.197407  0.301955  \nF     0.025279  0.120411  0.220547  0.522159  0.121614  0.469641  0.200838  \nGM   -0.009457  0.104282  0.249896  0.440294  0.057957  0.432737  0.259293  \nADBE  1.000000  0.775798  0.071403 -0.003063  0.644865  0.036662  0.232881  \nMSFT  0.775798  1.000000  0.114191  0.092606  0.700225  0.113165  0.272728  \nPTR   0.071403  0.114191  1.000000  0.232835  0.064671  0.458230  0.567877  \nCB   -0.003063  0.092606  0.232835  1.000000  0.125233  0.455758  0.113302  \nAAPL  0.644865  0.700225  0.064671  0.125233  1.000000  0.062757  0.214770  \nMUFG  0.036662  0.113165  0.458230  0.455758  0.062757  1.000000  0.337480  \nLFC   0.232881  0.272728  0.567877  0.113302  0.214770  0.337480  1.000000  \n\n[22 rows x 22 columns]\n\nTest Correlation TSLA/MSFT: 0.4887790427681887\ncorr.loc['TSLA','SPY'] : 0.4642533884028335\n"
     ]
    }
   ],
   "source": [
    "def getCovAndCorr(returns, stats):\n",
    "    cov = []\n",
    "    corr = []\n",
    "\n",
    "    for i in range(len(returns.columns)):\n",
    "        covColumn = []\n",
    "        corrColumn = []\n",
    "        \n",
    "        iname = returns.columns[i]\n",
    "        for j in range(i):\n",
    "            covColumn.append(cov[j][i])\n",
    "            corrColumn.append(corr[j][i])\n",
    "        iStd = stats[iname][\"DailyStd\"]\n",
    "        covColumn.append(iStd * iStd)\n",
    "        corrColumn.append(1)\n",
    "        for j in range(i+1, len(returns.columns)):\n",
    "            jname = returns.columns[j]\n",
    "            jStd = stats[jname][\"DailyStd\"]\n",
    "            tickerCov = returns[iname].cov(returns[jname])\n",
    "            covColumn.append(tickerCov)\n",
    "            corrColumn.append(tickerCov / (iStd * jStd))\n",
    "        cov.append(covColumn)\n",
    "        corr.append(corrColumn)\n",
    "\n",
    "    covDf = pd.DataFrame(cov, index = returns.columns, columns = returns.columns)\n",
    "    corrDf = pd.DataFrame(corr, index = returns.columns, columns = returns.columns)\n",
    "    return covDf, corrDf\n",
    "\n",
    "cov, corr = getCovAndCorr(returns, stats)\n",
    "\n",
    "print(f\"Correlation matrix :\\n{corr}\\n\")\n",
    "print(f\"Test Correlation TSLA/MSFT: {returns['TSLA'].cov(returns['MSFT'])/(stats['TSLA']['DailyStd'] * stats['MSFT']['DailyStd'])}\")\n",
    "'''\n",
    "print(f\"Covariance :\\n{cov}\\n\")\n",
    "print(f\"Test Covariance TSLA/MSFT: {returns['TSLA'].cov(returns['MSFT'])}\")\n",
    "print(f\"Covarience SPY column :\\n{cov['SPY']}\")\n",
    "print(f\"Covarience TSLA row :\\n{cov.loc['TSLA']}\")\n",
    "print(f\"corr.loc['SPY','TSLA'] : {corr.loc['SPY','TSLA']}\")\n",
    "'''\n",
    "print(f\"corr.loc['TSLA','SPY'] : {corr.loc['TSLA','SPY']}\")\n"
   ]
  },
  {
   "cell_type": "code",
   "execution_count": 14,
   "metadata": {},
   "outputs": [
    {
     "output_type": "stream",
     "name": "stdout",
     "text": [
      "Alpa/Beta for SPY benchmark :\n           AAPL      TSLA      MSFT        GM       BCS      QCOM       PTR  \\\nAlpha  0.015872  1.721312 -0.172086  0.772418  0.437016  0.042966 -0.051308   \nBeta   1.385885  1.981545  1.193959  1.146854  1.344935  1.446211  0.736107   \n\n           VALE        GS        CI  ...        CB       LFC      MUFG  \\\nAlpha  1.165004  0.576771 -0.015219  ...  0.230395 -0.270370  0.156281   \nBeta   1.160191  1.125696  0.909719  ...  0.905203  0.901178  0.783987   \n\n           NVDA      ASML      ADBE      SONY       AMD       TXN         F  \nAlpha -0.021738  0.521300 -0.200919  0.214130 -0.187396  0.064978  0.794848  \nBeta   1.494100  1.352246  1.210740  0.641412  1.315700  1.286491  1.173361  \n\n[2 rows x 21 columns]\n"
     ]
    }
   ],
   "source": [
    "def getAlphaBetaBenchmark(indices, tickers, cov, stats):\n",
    "    #TODO consider adding risk free rate\n",
    "    benchmark = {}\n",
    "    for index in indices:\n",
    "        alpha = []\n",
    "        beta = []\n",
    "        for ticker in tickers:\n",
    "            indexVarience = cov[index][index]\n",
    "            indexTickerCovarience = cov[index][ticker]\n",
    "            indexTickerBeta = indexTickerCovarience / indexVarience\n",
    "            indexTickerAlpha = stats[ticker]['TotalReturn'] - indexTickerBeta * stats[index]['TotalReturn']\n",
    "            beta.append(indexTickerBeta)\n",
    "            alpha.append(indexTickerAlpha)\n",
    "\n",
    "        benchmark[index] = pd.DataFrame.from_dict({'Alpha' : alpha, 'Beta' : beta}, orient='index', columns=tickers)\n",
    "    return benchmark\n",
    "\n",
    "abBench = getAlphaBetaBenchmark(\n",
    "    list(filter(None, indices.split(','))),\n",
    "    list(filter(None, tickers.split(','))),\n",
    "    cov, stats)\n",
    "\n",
    "print(f\"Alpa/Beta for SPY benchmark :\\n{abBench['SPY']}\")"
   ]
  }
 ]
}