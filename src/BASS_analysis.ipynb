{
 "metadata": {
  "language_info": {
   "codemirror_mode": {
    "name": "ipython",
    "version": 3
   },
   "file_extension": ".py",
   "mimetype": "text/x-python",
   "name": "python",
   "nbconvert_exporter": "python",
   "pygments_lexer": "ipython3",
   "version": "3.9.4"
  },
  "orig_nbformat": 2,
  "kernelspec": {
   "name": "python394jvsc74a57bd0fdbafed433bad546f9c4036d3f0beb14901a1516bb277b7e284dedd556c7676b",
   "display_name": "Python 3.9.4 64-bit ('py3': conda)"
  }
 },
 "nbformat": 4,
 "nbformat_minor": 2,
 "cells": [
  {
   "cell_type": "code",
   "execution_count": 1,
   "metadata": {},
   "outputs": [
    {
     "output_type": "stream",
     "name": "stdout",
     "text": [
      "Requirement already satisfied: yfinance in c:\\users\\alexey\\anaconda3\\envs\\py3\\lib\\site-packages (0.1.59)\nRequirement already satisfied: numpy>=1.15 in c:\\users\\alexey\\anaconda3\\envs\\py3\\lib\\site-packages (from yfinance) (1.20.1)\nRequirement already satisfied: lxml>=4.5.1 in c:\\users\\alexey\\anaconda3\\envs\\py3\\lib\\site-packages (from yfinance) (4.6.3)\nRequirement already satisfied: requests>=2.20 in c:\\users\\alexey\\anaconda3\\envs\\py3\\lib\\site-packages (from yfinance) (2.25.1)\nRequirement already satisfied: pandas>=0.24 in c:\\users\\alexey\\anaconda3\\envs\\py3\\lib\\site-packages (from yfinance) (1.2.4)\nRequirement already satisfied: multitasking>=0.0.7 in c:\\users\\alexey\\anaconda3\\envs\\py3\\lib\\site-packages (from yfinance) (0.0.9)\nRequirement already satisfied: python-dateutil>=2.7.3 in c:\\users\\alexey\\anaconda3\\envs\\py3\\lib\\site-packages (from pandas>=0.24->yfinance) (2.8.1)\nRequirement already satisfied: pytz>=2017.3 in c:\\users\\alexey\\anaconda3\\envs\\py3\\lib\\site-packages (from pandas>=0.24->yfinance) (2021.1)\nRequirement already satisfied: six>=1.5 in c:\\users\\alexey\\appdata\\roaming\\python\\python39\\site-packages (from python-dateutil>=2.7.3->pandas>=0.24->yfinance) (1.15.0)\nRequirement already satisfied: chardet<5,>=3.0.2 in c:\\users\\alexey\\anaconda3\\envs\\py3\\lib\\site-packages (from requests>=2.20->yfinance) (4.0.0)\nRequirement already satisfied: idna<3,>=2.5 in c:\\users\\alexey\\anaconda3\\envs\\py3\\lib\\site-packages (from requests>=2.20->yfinance) (2.10)\nRequirement already satisfied: urllib3<1.27,>=1.21.1 in c:\\users\\alexey\\anaconda3\\envs\\py3\\lib\\site-packages (from requests>=2.20->yfinance) (1.26.4)\nRequirement already satisfied: certifi>=2017.4.17 in c:\\users\\alexey\\anaconda3\\envs\\py3\\lib\\site-packages (from requests>=2.20->yfinance) (2020.12.5)\nNote: you may need to restart the kernel to use updated packages.\n"
     ]
    }
   ],
   "source": [
    "%pip install yfinance\n",
    "import yfinance as yf\n",
    "import pandas as pd"
   ]
  },
  {
   "cell_type": "code",
   "execution_count": 2,
   "metadata": {},
   "outputs": [
    {
     "output_type": "stream",
     "name": "stdout",
     "text": [
      "[*********************100%***********************]  4 of 4 completed\n",
      "Downloaded 253 days of market data for indices : SPY, and tickers : AAPL,TSLA,MSFT,\n"
     ]
    }
   ],
   "source": [
    "tickers = 'AAPL,TSLA,MSFT,'\n",
    "indices = 'SPY,'\n",
    "\n",
    "md = yf.download(\n",
    "    tickers = indices + tickers,\n",
    "    group_by='ticker',\n",
    "    start='2020-05-19', end='2021-05-19',\n",
    "    interval = '1d',\n",
    "    auto_adjust = True,\n",
    "    threads = True\n",
    "    )\n",
    "\n",
    "print(f'Downloaded {len(md)} days of market data for indices : {indices} and tickers : {tickers}')\n",
    "\n",
    "#md['SPY'].tail()\n",
    "#print(f\"Index : {md.index[:5]}...\")\n",
    "#print(f\"Columns : {md.columns[:5]}...\")\n",
    "\n"
   ]
  },
  {
   "cell_type": "code",
   "execution_count": 3,
   "metadata": {
    "tags": []
   },
   "outputs": [
    {
     "output_type": "stream",
     "name": "stdout",
     "text": [
      "0    290.343842\n1    287.361664\n2    292.243408\n3    290.225769\n4    290.776947\nName: SPY_price, dtype: float64\n0         NaN\n1   -0.010271\n2    0.016988\n3   -0.006904\n4    0.001899\nName: SPY_return, dtype: float64\n"
     ]
    }
   ],
   "source": [
    "def getPriceAndReturn(md):\n",
    "    priceField = 'Close'\n",
    "    df = pd.DataFrame()\n",
    "    for ticker, kind in md.columns:\n",
    "        if kind == priceField:\n",
    "            tickerPriceField = ticker + '_price'\n",
    "            prices = md[ticker][[priceField]].values.reshape(1, -1).ravel()\n",
    "            df[tickerPriceField] = prices\n",
    "            tickerReturnField = ticker + '_return'\n",
    "            df[tickerReturnField] = df[tickerPriceField].pct_change()\n",
    "    return df\n",
    "\n",
    "df = getPriceAndReturn(md)\n",
    "\n",
    "print(df['SPY_price'].head())\n",
    "\n",
    "print(df['SPY_return'].head())\n",
    "\n"
   ]
  }
 ]
}